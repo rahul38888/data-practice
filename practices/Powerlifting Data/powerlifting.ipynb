{
 "cells": [
  {
   "cell_type": "markdown",
   "metadata": {},
   "source": [
    "# Powerlifting Data"
   ]
  },
  {
   "cell_type": "markdown",
   "metadata": {},
   "source": [
    "Data source: https://www.kaggle.com/datasets/waqi786/powerlifting-data/data"
   ]
  },
  {
   "cell_type": "code",
   "execution_count": 1,
   "metadata": {},
   "outputs": [],
   "source": [
    "import numpy as np\n",
    "import pandas as pd\n",
    "import matplotlib.pyplot as plt\n",
    "import seaborn as sns"
   ]
  },
  {
   "cell_type": "code",
   "execution_count": 2,
   "metadata": {},
   "outputs": [],
   "source": [
    "df_raw = pd.read_csv(\"data/powerlifting_dataset.csv\")"
   ]
  },
  {
   "cell_type": "code",
   "execution_count": 3,
   "metadata": {},
   "outputs": [
    {
     "data": {
      "text/html": [
       "<div>\n",
       "<style scoped>\n",
       "    .dataframe tbody tr th:only-of-type {\n",
       "        vertical-align: middle;\n",
       "    }\n",
       "\n",
       "    .dataframe tbody tr th {\n",
       "        vertical-align: top;\n",
       "    }\n",
       "\n",
       "    .dataframe thead th {\n",
       "        text-align: right;\n",
       "    }\n",
       "</style>\n",
       "<table border=\"1\" class=\"dataframe\">\n",
       "  <thead>\n",
       "    <tr style=\"text-align: right;\">\n",
       "      <th></th>\n",
       "      <th>Lifter Name</th>\n",
       "      <th>Age</th>\n",
       "      <th>Weight Class</th>\n",
       "      <th>Lift Type</th>\n",
       "      <th>Amount Lifted (kg)</th>\n",
       "    </tr>\n",
       "  </thead>\n",
       "  <tbody>\n",
       "    <tr>\n",
       "      <th>0</th>\n",
       "      <td>Jessica Wilson</td>\n",
       "      <td>46</td>\n",
       "      <td>59 kg</td>\n",
       "      <td>Bench Press</td>\n",
       "      <td>269</td>\n",
       "    </tr>\n",
       "    <tr>\n",
       "      <th>1</th>\n",
       "      <td>John Doe</td>\n",
       "      <td>60</td>\n",
       "      <td>83 kg</td>\n",
       "      <td>Bench Press</td>\n",
       "      <td>179</td>\n",
       "    </tr>\n",
       "    <tr>\n",
       "      <th>2</th>\n",
       "      <td>Emily Davis</td>\n",
       "      <td>41</td>\n",
       "      <td>105 kg</td>\n",
       "      <td>Bench Press</td>\n",
       "      <td>235</td>\n",
       "    </tr>\n",
       "    <tr>\n",
       "      <th>3</th>\n",
       "      <td>Emily Davis</td>\n",
       "      <td>33</td>\n",
       "      <td>66 kg</td>\n",
       "      <td>Squat</td>\n",
       "      <td>359</td>\n",
       "    </tr>\n",
       "    <tr>\n",
       "      <th>4</th>\n",
       "      <td>Laura Taylor</td>\n",
       "      <td>56</td>\n",
       "      <td>74 kg</td>\n",
       "      <td>Deadlift</td>\n",
       "      <td>221</td>\n",
       "    </tr>\n",
       "  </tbody>\n",
       "</table>\n",
       "</div>"
      ],
      "text/plain": [
       "      Lifter Name  Age Weight Class    Lift Type  Amount Lifted (kg)\n",
       "0  Jessica Wilson   46        59 kg  Bench Press                 269\n",
       "1        John Doe   60        83 kg  Bench Press                 179\n",
       "2     Emily Davis   41       105 kg  Bench Press                 235\n",
       "3     Emily Davis   33        66 kg        Squat                 359\n",
       "4    Laura Taylor   56        74 kg     Deadlift                 221"
      ]
     },
     "execution_count": 3,
     "metadata": {},
     "output_type": "execute_result"
    }
   ],
   "source": [
    "df_raw.head()"
   ]
  },
  {
   "cell_type": "code",
   "execution_count": 4,
   "metadata": {},
   "outputs": [
    {
     "name": "stdout",
     "output_type": "stream",
     "text": [
      "<class 'pandas.core.frame.DataFrame'>\n",
      "RangeIndex: 3000 entries, 0 to 2999\n",
      "Data columns (total 5 columns):\n",
      " #   Column              Non-Null Count  Dtype \n",
      "---  ------              --------------  ----- \n",
      " 0   Lifter Name         3000 non-null   object\n",
      " 1   Age                 3000 non-null   int64 \n",
      " 2   Weight Class        3000 non-null   object\n",
      " 3   Lift Type           3000 non-null   object\n",
      " 4   Amount Lifted (kg)  3000 non-null   int64 \n",
      "dtypes: int64(2), object(3)\n",
      "memory usage: 117.3+ KB\n"
     ]
    }
   ],
   "source": [
    "df_raw.info()"
   ]
  },
  {
   "cell_type": "code",
   "execution_count": 5,
   "metadata": {},
   "outputs": [
    {
     "data": {
      "text/html": [
       "<div>\n",
       "<style scoped>\n",
       "    .dataframe tbody tr th:only-of-type {\n",
       "        vertical-align: middle;\n",
       "    }\n",
       "\n",
       "    .dataframe tbody tr th {\n",
       "        vertical-align: top;\n",
       "    }\n",
       "\n",
       "    .dataframe thead th {\n",
       "        text-align: right;\n",
       "    }\n",
       "</style>\n",
       "<table border=\"1\" class=\"dataframe\">\n",
       "  <thead>\n",
       "    <tr style=\"text-align: right;\">\n",
       "      <th></th>\n",
       "      <th>Age</th>\n",
       "      <th>Amount Lifted (kg)</th>\n",
       "    </tr>\n",
       "  </thead>\n",
       "  <tbody>\n",
       "    <tr>\n",
       "      <th>count</th>\n",
       "      <td>3000.000000</td>\n",
       "      <td>3000.000000</td>\n",
       "    </tr>\n",
       "    <tr>\n",
       "      <th>mean</th>\n",
       "      <td>41.064000</td>\n",
       "      <td>250.332667</td>\n",
       "    </tr>\n",
       "    <tr>\n",
       "      <th>std</th>\n",
       "      <td>13.682628</td>\n",
       "      <td>86.281208</td>\n",
       "    </tr>\n",
       "    <tr>\n",
       "      <th>min</th>\n",
       "      <td>18.000000</td>\n",
       "      <td>100.000000</td>\n",
       "    </tr>\n",
       "    <tr>\n",
       "      <th>25%</th>\n",
       "      <td>29.000000</td>\n",
       "      <td>176.750000</td>\n",
       "    </tr>\n",
       "    <tr>\n",
       "      <th>50%</th>\n",
       "      <td>41.000000</td>\n",
       "      <td>250.000000</td>\n",
       "    </tr>\n",
       "    <tr>\n",
       "      <th>75%</th>\n",
       "      <td>53.000000</td>\n",
       "      <td>325.250000</td>\n",
       "    </tr>\n",
       "    <tr>\n",
       "      <th>max</th>\n",
       "      <td>64.000000</td>\n",
       "      <td>399.000000</td>\n",
       "    </tr>\n",
       "  </tbody>\n",
       "</table>\n",
       "</div>"
      ],
      "text/plain": [
       "               Age  Amount Lifted (kg)\n",
       "count  3000.000000         3000.000000\n",
       "mean     41.064000          250.332667\n",
       "std      13.682628           86.281208\n",
       "min      18.000000          100.000000\n",
       "25%      29.000000          176.750000\n",
       "50%      41.000000          250.000000\n",
       "75%      53.000000          325.250000\n",
       "max      64.000000          399.000000"
      ]
     },
     "execution_count": 5,
     "metadata": {},
     "output_type": "execute_result"
    }
   ],
   "source": [
    "df_raw.describe()"
   ]
  },
  {
   "cell_type": "code",
   "execution_count": 83,
   "metadata": {},
   "outputs": [
    {
     "data": {
      "text/plain": [
       "10"
      ]
     },
     "execution_count": 83,
     "metadata": {},
     "output_type": "execute_result"
    }
   ],
   "source": [
    "len(df_raw[\"Lifter Name\"].unique())"
   ]
  },
  {
   "cell_type": "markdown",
   "metadata": {},
   "source": [
    "#### Pointers\n",
    "* There are no null values\n",
    "* `Weight Class` could be numeric\n",
    "* The data is for only 10 players"
   ]
  },
  {
   "cell_type": "markdown",
   "metadata": {},
   "source": [
    "## Data cleaning"
   ]
  },
  {
   "cell_type": "code",
   "execution_count": 10,
   "metadata": {},
   "outputs": [
    {
     "data": {
      "text/plain": [
       "Index(['lifter_name', 'age', 'weight_class', 'lift_type', 'amount_lifted_kg'], dtype='object')"
      ]
     },
     "execution_count": 10,
     "metadata": {},
     "output_type": "execute_result"
    }
   ],
   "source": [
    "df = df_raw.copy()\n",
    "df.columns = df.columns.str.lower().str.replace(\" \", \"_\").str.replace(\"(\", \"\").str.replace(\")\", \"\")\n",
    "df.columns"
   ]
  },
  {
   "cell_type": "code",
   "execution_count": 11,
   "metadata": {},
   "outputs": [
    {
     "data": {
      "text/plain": [
       "array(['59 kg', '83 kg', '105 kg', '66 kg', '74 kg', '120 kg', '93 kg',\n",
       "       '52 kg', 'Open'], dtype=object)"
      ]
     },
     "execution_count": 11,
     "metadata": {},
     "output_type": "execute_result"
    }
   ],
   "source": [
    "df['weight_class'].unique()"
   ]
  },
  {
   "cell_type": "markdown",
   "metadata": {},
   "source": [
    "* So `weight_class` is infact categorical"
   ]
  },
  {
   "cell_type": "code",
   "execution_count": 13,
   "metadata": {},
   "outputs": [],
   "source": [
    "df['lift_type'] = df['lift_type'].str.lower().str.replace(\" \", \"_\")\n",
    "df['weight_class'] = df['weight_class'].str.lower().str.replace(\" \", \"_\")"
   ]
  },
  {
   "cell_type": "markdown",
   "metadata": {},
   "source": [
    "## Data analysis"
   ]
  },
  {
   "cell_type": "markdown",
   "metadata": {},
   "source": [
    "#### **1.** Distribution of age"
   ]
  },
  {
   "cell_type": "code",
   "execution_count": 40,
   "metadata": {},
   "outputs": [
    {
     "data": {
      "image/png": "[encoded data removed]",
      "text/plain": [
       "<Figure size 640x480 with 1 Axes>"
      ]
     },
     "metadata": {},
     "output_type": "display_data"
    },
    {
     "data": {
      "text/plain": [
       "count    3000.000000\n",
       "mean       41.064000\n",
       "std        13.682628\n",
       "min        18.000000\n",
       "25%        29.000000\n",
       "50%        41.000000\n",
       "75%        53.000000\n",
       "max        64.000000\n",
       "Name: age, dtype: float64"
      ]
     },
     "execution_count": 40,
     "metadata": {},
     "output_type": "execute_result"
    }
   ],
   "source": [
    "sns.histplot(df['age'])\n",
    "plt.axvline(df['age'].mean(), 0,300, color=\"red\")\n",
    "plt.show()\n",
    "df['age'].describe()"
   ]
  },
  {
   "cell_type": "markdown",
   "metadata": {},
   "source": [
    "#### **2.** Distribution of amount_lifted_kg"
   ]
  },
  {
   "cell_type": "code",
   "execution_count": 41,
   "metadata": {},
   "outputs": [
    {
     "data": {
      "image/png": "[encoded data removed]",
      "text/plain": [
       "<Figure size 640x480 with 1 Axes>"
      ]
     },
     "metadata": {},
     "output_type": "display_data"
    },
    {
     "data": {
      "text/plain": [
       "count    3000.000000\n",
       "mean      250.332667\n",
       "std        86.281208\n",
       "min       100.000000\n",
       "25%       176.750000\n",
       "50%       250.000000\n",
       "75%       325.250000\n",
       "max       399.000000\n",
       "Name: amount_lifted_kg, dtype: float64"
      ]
     },
     "execution_count": 41,
     "metadata": {},
     "output_type": "execute_result"
    }
   ],
   "source": [
    "sns.histplot(df['amount_lifted_kg'])\n",
    "plt.axvline(df['amount_lifted_kg'].mean(), 0,300, color=\"red\")\n",
    "plt.show()\n",
    "df['amount_lifted_kg'].describe()"
   ]
  },
  {
   "cell_type": "markdown",
   "metadata": {},
   "source": [
    "#### **3.** Relation between age and amount_lifted_kg"
   ]
  },
  {
   "cell_type": "code",
   "execution_count": 50,
   "metadata": {},
   "outputs": [
    {
     "data": {
      "image/png": "[encoded data removed]",
      "text/plain": [
       "<Figure size 640x480 with 1 Axes>"
      ]
     },
     "metadata": {},
     "output_type": "display_data"
    }
   ],
   "source": [
    "mean_by_age = df.groupby(by=\"age\")['amount_lifted_kg'].mean().reset_index()\n",
    "sns.lineplot(mean_by_age, x=\"age\", y=\"amount_lifted_kg\", )\n",
    "plt.show()"
   ]
  },
  {
   "cell_type": "code",
   "execution_count": null,
   "metadata": {},
   "outputs": [],
   "source": [
    "mean_by_age = df.groupby(by=\"age\")['amount_lifted_kg'].mean().reset_index()\n",
    "sns.lineplot(mean_by_age, x=\"age\", y=\"amount_lifted_kg\", )\n",
    "plt.show()"
   ]
  },
  {
   "cell_type": "markdown",
   "metadata": {},
   "source": [
    "#### **4.** What are the most common age in each weight_class"
   ]
  },
  {
   "cell_type": "code",
   "execution_count": 73,
   "metadata": {},
   "outputs": [
    {
     "data": {
      "text/plain": [
       "weight_class\n",
       "105_kg    22\n",
       "120_kg    24\n",
       "52_kg     64\n",
       "59_kg     27\n",
       "66_kg     19\n",
       "74_kg     52\n",
       "83_kg     43\n",
       "93_kg     64\n",
       "open      45\n",
       "Name: age, dtype: int64"
      ]
     },
     "execution_count": 73,
     "metadata": {},
     "output_type": "execute_result"
    }
   ],
   "source": [
    "age_mode_in_wc = df[['weight_class', \"age\"]].groupby('weight_class')[\"age\"].agg(lambda x: x.mode().iloc[0]).sort_index()\n",
    "age_mode_in_wc"
   ]
  },
  {
   "cell_type": "code",
   "execution_count": 75,
   "metadata": {},
   "outputs": [
    {
     "data": {
      "image/png": "[encoded data removed]",
      "text/plain": [
       "<Figure size 640x480 with 1 Axes>"
      ]
     },
     "metadata": {},
     "output_type": "display_data"
    }
   ],
   "source": [
    "wcs = ['52_kg', '59_kg', '66_kg', '74_kg', '83_kg', '93_kg', '105_kg', '120_kg', 'open']\n",
    "data = [ age_mode_in_wc[wc] for wc in wcs]\n",
    "ax = sns.barplot(x=wcs, y=data)\n",
    "for i in ax.containers:\n",
    "    ax.bar_label(i, )\n",
    "plt.show()"
   ]
  },
  {
   "cell_type": "markdown",
   "metadata": {},
   "source": [
    "#### **5.** What player have most number of matches\n",
    "`Emily Davis`"
   ]
  },
  {
   "cell_type": "code",
   "execution_count": 84,
   "metadata": {},
   "outputs": [],
   "source": [
    "lifter_match_count = df.groupby(\"lifter_name\")[\"lifter_name\"].value_counts().sort_values(ascending=False)"
   ]
  },
  {
   "cell_type": "code",
   "execution_count": 95,
   "metadata": {},
   "outputs": [
    {
     "data": {
      "image/png": "[encoded data removed]",
      "text/plain": [
       "<Figure size 640x480 with 1 Axes>"
      ]
     },
     "metadata": {},
     "output_type": "display_data"
    },
    {
     "name": "stdout",
     "output_type": "stream",
     "text": [
      "Player with most number of matches: Emily Davis\n"
     ]
    }
   ],
   "source": [
    "g = sns.barplot(lifter_match_count)\n",
    "for i in g.containers:\n",
    "    g.bar_label(i)\n",
    "plt.xticks(rotation=90)\n",
    "plt.show()\n",
    "print(f\"Player with most number of matches: {lifter_match_count.index[0]}\")"
   ]
  },
  {
   "cell_type": "markdown",
   "metadata": {},
   "source": [
    "#### **6.** What player have competed in most number of lift_type/weight_class\n",
    "\n",
    "| Category | Player |\n",
    "| -------- | ------ |\n",
    "| **lift_type** | Emily Davis |\n",
    "| **weight_class** | Laura Taylor |"
   ]
  },
  {
   "cell_type": "code",
   "execution_count": 120,
   "metadata": {},
   "outputs": [
    {
     "data": {
      "text/html": [
       "<div>\n",
       "<style scoped>\n",
       "    .dataframe tbody tr th:only-of-type {\n",
       "        vertical-align: middle;\n",
       "    }\n",
       "\n",
       "    .dataframe tbody tr th {\n",
       "        vertical-align: top;\n",
       "    }\n",
       "\n",
       "    .dataframe thead th {\n",
       "        text-align: right;\n",
       "    }\n",
       "</style>\n",
       "<table border=\"1\" class=\"dataframe\">\n",
       "  <thead>\n",
       "    <tr style=\"text-align: right;\">\n",
       "      <th></th>\n",
       "      <th>lift_type</th>\n",
       "    </tr>\n",
       "    <tr>\n",
       "      <th>lifter_name</th>\n",
       "      <th></th>\n",
       "    </tr>\n",
       "  </thead>\n",
       "  <tbody>\n",
       "    <tr>\n",
       "      <th>Emily Davis</th>\n",
       "      <td>(115, squat)</td>\n",
       "    </tr>\n",
       "    <tr>\n",
       "      <th>Laura Taylor</th>\n",
       "      <td>(112, deadlift)</td>\n",
       "    </tr>\n",
       "    <tr>\n",
       "      <th>Jessica Wilson</th>\n",
       "      <td>(110, bench_press)</td>\n",
       "    </tr>\n",
       "    <tr>\n",
       "      <th>John Doe</th>\n",
       "      <td>(109, deadlift)</td>\n",
       "    </tr>\n",
       "    <tr>\n",
       "      <th>Jane Smith</th>\n",
       "      <td>(107, squat)</td>\n",
       "    </tr>\n",
       "    <tr>\n",
       "      <th>Chris Brown</th>\n",
       "      <td>(106, deadlift)</td>\n",
       "    </tr>\n",
       "    <tr>\n",
       "      <th>Michael Johnson</th>\n",
       "      <td>(104, deadlift)</td>\n",
       "    </tr>\n",
       "    <tr>\n",
       "      <th>Daniel Lee</th>\n",
       "      <td>(104, bench_press)</td>\n",
       "    </tr>\n",
       "    <tr>\n",
       "      <th>Matthew Anderson</th>\n",
       "      <td>(103, squat)</td>\n",
       "    </tr>\n",
       "    <tr>\n",
       "      <th>Sarah Thomas</th>\n",
       "      <td>(98, bench_press)</td>\n",
       "    </tr>\n",
       "  </tbody>\n",
       "</table>\n",
       "</div>"
      ],
      "text/plain": [
       "                           lift_type\n",
       "lifter_name                         \n",
       "Emily Davis             (115, squat)\n",
       "Laura Taylor         (112, deadlift)\n",
       "Jessica Wilson    (110, bench_press)\n",
       "John Doe             (109, deadlift)\n",
       "Jane Smith              (107, squat)\n",
       "Chris Brown          (106, deadlift)\n",
       "Michael Johnson      (104, deadlift)\n",
       "Daniel Lee        (104, bench_press)\n",
       "Matthew Anderson        (103, squat)\n",
       "Sarah Thomas       (98, bench_press)"
      ]
     },
     "execution_count": 120,
     "metadata": {},
     "output_type": "execute_result"
    }
   ],
   "source": [
    "df[[\"lift_type\", \"lifter_name\"]].groupby(\"lifter_name\").agg(lambda x: (x.value_counts().values[0], x.value_counts().index[0])).sort_values(by=\"lift_type\", ascending=False)"
   ]
  },
  {
   "cell_type": "code",
   "execution_count": 121,
   "metadata": {},
   "outputs": [
    {
     "data": {
      "text/html": [
       "<div>\n",
       "<style scoped>\n",
       "    .dataframe tbody tr th:only-of-type {\n",
       "        vertical-align: middle;\n",
       "    }\n",
       "\n",
       "    .dataframe tbody tr th {\n",
       "        vertical-align: top;\n",
       "    }\n",
       "\n",
       "    .dataframe thead th {\n",
       "        text-align: right;\n",
       "    }\n",
       "</style>\n",
       "<table border=\"1\" class=\"dataframe\">\n",
       "  <thead>\n",
       "    <tr style=\"text-align: right;\">\n",
       "      <th></th>\n",
       "      <th>weight_class</th>\n",
       "    </tr>\n",
       "    <tr>\n",
       "      <th>lifter_name</th>\n",
       "      <th></th>\n",
       "    </tr>\n",
       "  </thead>\n",
       "  <tbody>\n",
       "    <tr>\n",
       "      <th>Laura Taylor</th>\n",
       "      <td>(46, 93_kg)</td>\n",
       "    </tr>\n",
       "    <tr>\n",
       "      <th>Emily Davis</th>\n",
       "      <td>(46, 83_kg)</td>\n",
       "    </tr>\n",
       "    <tr>\n",
       "      <th>Michael Johnson</th>\n",
       "      <td>(45, open)</td>\n",
       "    </tr>\n",
       "    <tr>\n",
       "      <th>Jane Smith</th>\n",
       "      <td>(43, open)</td>\n",
       "    </tr>\n",
       "    <tr>\n",
       "      <th>Sarah Thomas</th>\n",
       "      <td>(43, open)</td>\n",
       "    </tr>\n",
       "    <tr>\n",
       "      <th>Jessica Wilson</th>\n",
       "      <td>(41, open)</td>\n",
       "    </tr>\n",
       "    <tr>\n",
       "      <th>Matthew Anderson</th>\n",
       "      <td>(41, 120_kg)</td>\n",
       "    </tr>\n",
       "    <tr>\n",
       "      <th>Chris Brown</th>\n",
       "      <td>(40, 93_kg)</td>\n",
       "    </tr>\n",
       "    <tr>\n",
       "      <th>Daniel Lee</th>\n",
       "      <td>(40, 83_kg)</td>\n",
       "    </tr>\n",
       "    <tr>\n",
       "      <th>John Doe</th>\n",
       "      <td>(39, 105_kg)</td>\n",
       "    </tr>\n",
       "  </tbody>\n",
       "</table>\n",
       "</div>"
      ],
      "text/plain": [
       "                  weight_class\n",
       "lifter_name                   \n",
       "Laura Taylor       (46, 93_kg)\n",
       "Emily Davis        (46, 83_kg)\n",
       "Michael Johnson     (45, open)\n",
       "Jane Smith          (43, open)\n",
       "Sarah Thomas        (43, open)\n",
       "Jessica Wilson      (41, open)\n",
       "Matthew Anderson  (41, 120_kg)\n",
       "Chris Brown        (40, 93_kg)\n",
       "Daniel Lee         (40, 83_kg)\n",
       "John Doe          (39, 105_kg)"
      ]
     },
     "execution_count": 121,
     "metadata": {},
     "output_type": "execute_result"
    }
   ],
   "source": [
    "df[[\"weight_class\", \"lifter_name\"]].groupby(\"lifter_name\").agg(lambda x: (x.value_counts().values[0], x.value_counts().index[0])).sort_values(by=\"weight_class\", ascending=False)"
   ]
  },
  {
   "cell_type": "markdown",
   "metadata": {},
   "source": [
    "#### **6.** What player have not competed in all lift_type/weight_class\n",
    "\n",
    "| Category | Player |\n",
    "| -------- | ------ |\n",
    "| **lift_type** | All players |\n",
    "| **weight_class** | No player |"
   ]
  },
  {
   "cell_type": "code",
   "execution_count": 133,
   "metadata": {},
   "outputs": [
    {
     "data": {
      "text/plain": [
       "array([], dtype=object)"
      ]
     },
     "execution_count": 133,
     "metadata": {},
     "output_type": "execute_result"
    }
   ],
   "source": [
    "all_lift_types = df[\"lift_type\"].unique().tolist()\n",
    "all_lift_types\n",
    "df[[\"lift_type\", \"lifter_name\"]].groupby(\"lifter_name\").filter(lambda x: len(x[\"lift_type\"].unique()) != len(all_lift_types))[\"lifter_name\"].unique()"
   ]
  },
  {
   "cell_type": "code",
   "execution_count": 137,
   "metadata": {},
   "outputs": [
    {
     "data": {
      "text/plain": [
       "array([], dtype=object)"
      ]
     },
     "execution_count": 137,
     "metadata": {},
     "output_type": "execute_result"
    }
   ],
   "source": [
    "all_lift_types = df[\"lift_type\"].unique().tolist()\n",
    "all_lift_types\n",
    "df[[\"weight_class\", \"lifter_name\"]].groupby(\"lifter_name\").filter(lambda x: len(x[\"weight_class\"].unique()) == len(all_lift_types))[\"lifter_name\"].unique()"
   ]
  },
  {
   "cell_type": "markdown",
   "metadata": {},
   "source": [
    "#### **7.** Oldest/Youngest age players have competed in\n",
    "#### **8.** Yongest of heaviest weight lifter\n",
    "\n",
    "| Category | Player |\n",
    "| -------- | ------ |\n",
    "| **Oldest age** | Chris Brown, age = 64 |\n",
    "| **Youngest age** | Chris Brown, age = 18|\n",
    "| **Yongest of heaviest weight lifter** | Daniel Lee, weight lifted = 399 kg|"
   ]
  },
  {
   "cell_type": "code",
   "execution_count": 148,
   "metadata": {},
   "outputs": [
    {
     "data": {
      "text/plain": [
       "lifter_name    Chris Brown\n",
       "age                     64\n",
       "Name: 651, dtype: object"
      ]
     },
     "execution_count": 148,
     "metadata": {},
     "output_type": "execute_result"
    }
   ],
   "source": [
    "df.sort_values(by=\"age\", ascending=False).iloc[0][['lifter_name', \"age\"]]"
   ]
  },
  {
   "cell_type": "code",
   "execution_count": 149,
   "metadata": {},
   "outputs": [
    {
     "data": {
      "text/plain": [
       "lifter_name    Chris Brown\n",
       "age                     18\n",
       "Name: 1006, dtype: object"
      ]
     },
     "execution_count": 149,
     "metadata": {},
     "output_type": "execute_result"
    }
   ],
   "source": [
    "df.sort_values(by=\"age\").iloc[0][['lifter_name', \"age\"]]"
   ]
  },
  {
   "cell_type": "code",
   "execution_count": 150,
   "metadata": {},
   "outputs": [
    {
     "data": {
      "text/plain": [
       "lifter_name         Daniel Lee\n",
       "amount_lifted_kg           399\n",
       "Name: 1409, dtype: object"
      ]
     },
     "execution_count": 150,
     "metadata": {},
     "output_type": "execute_result"
    }
   ],
   "source": [
    "df.sort_values(by=[\"amount_lifted_kg\", \"age\"], ascending=[False, True]).iloc[0][[\"lifter_name\", \"amount_lifted_kg\"]]"
   ]
  }
 ],
 "metadata": {
  "kernelspec": {
   "display_name": "tf215_p310",
   "language": "python",
   "name": "python3"
  },
  "language_info": {
   "codemirror_mode": {
    "name": "ipython",
    "version": 3
   },
   "file_extension": ".py",
   "mimetype": "text/x-python",
   "name": "python",
   "nbconvert_exporter": "python",
   "pygments_lexer": "ipython3",
   "version": "3.10.12"
  }
 },
 "nbformat": 4,
 "nbformat_minor": 2
}
