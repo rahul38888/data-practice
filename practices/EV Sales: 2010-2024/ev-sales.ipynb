{
 "cells": [
  {
   "cell_type": "markdown",
   "metadata": {},
   "source": [
    "# EV Sales: 2010-2024"
   ]
  },
  {
   "cell_type": "markdown",
   "metadata": {},
   "source": [
    "Date source: https://www.kaggle.com/datasets/willianoliveiragibin/ev-sales-2010-2024"
   ]
  },
  {
   "cell_type": "code",
   "execution_count": 1,
   "metadata": {},
   "outputs": [],
   "source": [
    "import numpy as np\n",
    "import pandas as pd\n",
    "import matplotlib.pyplot as plt\n",
    "import seaborn as sns"
   ]
  },
  {
   "cell_type": "code",
   "execution_count": 2,
   "metadata": {},
   "outputs": [],
   "source": [
    "df_raw = pd.read_csv(\"data/IEA Global EV Data 2024 new.csv\")"
   ]
  },
  {
   "cell_type": "code",
   "execution_count": 3,
   "metadata": {},
   "outputs": [
    {
     "data": {
      "text/html": [
       "<div>\n",
       "<style scoped>\n",
       "    .dataframe tbody tr th:only-of-type {\n",
       "        vertical-align: middle;\n",
       "    }\n",
       "\n",
       "    .dataframe tbody tr th {\n",
       "        vertical-align: top;\n",
       "    }\n",
       "\n",
       "    .dataframe thead th {\n",
       "        text-align: right;\n",
       "    }\n",
       "</style>\n",
       "<table border=\"1\" class=\"dataframe\">\n",
       "  <thead>\n",
       "    <tr style=\"text-align: right;\">\n",
       "      <th></th>\n",
       "      <th>region</th>\n",
       "      <th>category</th>\n",
       "      <th>parameter</th>\n",
       "      <th>mode</th>\n",
       "      <th>powertrain</th>\n",
       "      <th>year</th>\n",
       "      <th>unit</th>\n",
       "      <th>value</th>\n",
       "      <th>percentage</th>\n",
       "    </tr>\n",
       "  </thead>\n",
       "  <tbody>\n",
       "    <tr>\n",
       "      <th>0</th>\n",
       "      <td>Austria</td>\n",
       "      <td>Historical</td>\n",
       "      <td>EV stock</td>\n",
       "      <td>Cars</td>\n",
       "      <td>BEV</td>\n",
       "      <td>2010</td>\n",
       "      <td>Vehicles</td>\n",
       "      <td>350</td>\n",
       "      <td>35000,00%</td>\n",
       "    </tr>\n",
       "    <tr>\n",
       "      <th>1</th>\n",
       "      <td>Austria</td>\n",
       "      <td>Historical</td>\n",
       "      <td>EV stock share</td>\n",
       "      <td>Cars</td>\n",
       "      <td>EV</td>\n",
       "      <td>2010</td>\n",
       "      <td>percent</td>\n",
       "      <td>789.999.961.853</td>\n",
       "      <td>78999996185300,00%</td>\n",
       "    </tr>\n",
       "    <tr>\n",
       "      <th>2</th>\n",
       "      <td>Belgium</td>\n",
       "      <td>Historical</td>\n",
       "      <td>EV stock</td>\n",
       "      <td>Buses</td>\n",
       "      <td>BEV</td>\n",
       "      <td>2010</td>\n",
       "      <td>Vehicles</td>\n",
       "      <td>3</td>\n",
       "      <td>300,00%</td>\n",
       "    </tr>\n",
       "    <tr>\n",
       "      <th>3</th>\n",
       "      <td>Belgium</td>\n",
       "      <td>Historical</td>\n",
       "      <td>EV sales</td>\n",
       "      <td>Vans</td>\n",
       "      <td>BEV</td>\n",
       "      <td>2010</td>\n",
       "      <td>Vehicles</td>\n",
       "      <td>7</td>\n",
       "      <td>700,00%</td>\n",
       "    </tr>\n",
       "    <tr>\n",
       "      <th>4</th>\n",
       "      <td>Belgium</td>\n",
       "      <td>Historical</td>\n",
       "      <td>EV stock</td>\n",
       "      <td>Vans</td>\n",
       "      <td>BEV</td>\n",
       "      <td>2010</td>\n",
       "      <td>Vehicles</td>\n",
       "      <td>62</td>\n",
       "      <td>6200,00%</td>\n",
       "    </tr>\n",
       "  </tbody>\n",
       "</table>\n",
       "</div>"
      ],
      "text/plain": [
       "    region    category       parameter   mode powertrain  year      unit  \\\n",
       "0  Austria  Historical        EV stock   Cars        BEV  2010  Vehicles   \n",
       "1  Austria  Historical  EV stock share   Cars         EV  2010   percent   \n",
       "2  Belgium  Historical        EV stock  Buses        BEV  2010  Vehicles   \n",
       "3  Belgium  Historical        EV sales   Vans        BEV  2010  Vehicles   \n",
       "4  Belgium  Historical        EV stock   Vans        BEV  2010  Vehicles   \n",
       "\n",
       "             value          percentage  \n",
       "0              350           35000,00%  \n",
       "1  789.999.961.853  78999996185300,00%  \n",
       "2                3             300,00%  \n",
       "3                7             700,00%  \n",
       "4               62            6200,00%  "
      ]
     },
     "execution_count": 3,
     "metadata": {},
     "output_type": "execute_result"
    }
   ],
   "source": [
    "df_raw.head()"
   ]
  },
  {
   "cell_type": "code",
   "execution_count": 7,
   "metadata": {},
   "outputs": [
    {
     "data": {
      "text/plain": [
       "12654"
      ]
     },
     "execution_count": 7,
     "metadata": {},
     "output_type": "execute_result"
    }
   ],
   "source": [
    "len(df_raw)"
   ]
  },
  {
   "cell_type": "code",
   "execution_count": 5,
   "metadata": {},
   "outputs": [
    {
     "name": "stdout",
     "output_type": "stream",
     "text": [
      "<class 'pandas.core.frame.DataFrame'>\n",
      "RangeIndex: 12654 entries, 0 to 12653\n",
      "Data columns (total 9 columns):\n",
      " #   Column      Non-Null Count  Dtype \n",
      "---  ------      --------------  ----- \n",
      " 0   region      12654 non-null  object\n",
      " 1   category    12654 non-null  object\n",
      " 2   parameter   12654 non-null  object\n",
      " 3   mode        12654 non-null  object\n",
      " 4   powertrain  12654 non-null  object\n",
      " 5   year        12654 non-null  int64 \n",
      " 6   unit        12654 non-null  object\n",
      " 7   value       12654 non-null  object\n",
      " 8   percentage  12654 non-null  object\n",
      "dtypes: int64(1), object(8)\n",
      "memory usage: 889.9+ KB\n"
     ]
    }
   ],
   "source": [
    "df_raw.info()"
   ]
  },
  {
   "cell_type": "code",
   "execution_count": 8,
   "metadata": {},
   "outputs": [
    {
     "data": {
      "text/html": [
       "<div>\n",
       "<style scoped>\n",
       "    .dataframe tbody tr th:only-of-type {\n",
       "        vertical-align: middle;\n",
       "    }\n",
       "\n",
       "    .dataframe tbody tr th {\n",
       "        vertical-align: top;\n",
       "    }\n",
       "\n",
       "    .dataframe thead th {\n",
       "        text-align: right;\n",
       "    }\n",
       "</style>\n",
       "<table border=\"1\" class=\"dataframe\">\n",
       "  <thead>\n",
       "    <tr style=\"text-align: right;\">\n",
       "      <th></th>\n",
       "      <th>year</th>\n",
       "    </tr>\n",
       "  </thead>\n",
       "  <tbody>\n",
       "    <tr>\n",
       "      <th>count</th>\n",
       "      <td>12654.000000</td>\n",
       "    </tr>\n",
       "    <tr>\n",
       "      <th>mean</th>\n",
       "      <td>2019.822112</td>\n",
       "    </tr>\n",
       "    <tr>\n",
       "      <th>std</th>\n",
       "      <td>5.476494</td>\n",
       "    </tr>\n",
       "    <tr>\n",
       "      <th>min</th>\n",
       "      <td>2010.000000</td>\n",
       "    </tr>\n",
       "    <tr>\n",
       "      <th>25%</th>\n",
       "      <td>2016.000000</td>\n",
       "    </tr>\n",
       "    <tr>\n",
       "      <th>50%</th>\n",
       "      <td>2020.000000</td>\n",
       "    </tr>\n",
       "    <tr>\n",
       "      <th>75%</th>\n",
       "      <td>2022.000000</td>\n",
       "    </tr>\n",
       "    <tr>\n",
       "      <th>max</th>\n",
       "      <td>2035.000000</td>\n",
       "    </tr>\n",
       "  </tbody>\n",
       "</table>\n",
       "</div>"
      ],
      "text/plain": [
       "               year\n",
       "count  12654.000000\n",
       "mean    2019.822112\n",
       "std        5.476494\n",
       "min     2010.000000\n",
       "25%     2016.000000\n",
       "50%     2020.000000\n",
       "75%     2022.000000\n",
       "max     2035.000000"
      ]
     },
     "execution_count": 8,
     "metadata": {},
     "output_type": "execute_result"
    }
   ],
   "source": [
    "df_raw.describe()"
   ]
  },
  {
   "cell_type": "markdown",
   "metadata": {},
   "source": [
    "#### Pointers\n",
    "* There are no null values\n",
    "* `value` and  `percentage` should be float64, but interpreted as object\n",
    "* Also `percentage` seems to be in thousands and sometime millions\n",
    "* The min for `year` is fine (2010), but max id 2035, while it should be 2024"
   ]
  },
  {
   "cell_type": "markdown",
   "metadata": {},
   "source": [
    "## Data cleaning"
   ]
  },
  {
   "cell_type": "code",
   "execution_count": 9,
   "metadata": {},
   "outputs": [],
   "source": [
    "df = df_raw.copy()"
   ]
  },
  {
   "cell_type": "code",
   "execution_count": 10,
   "metadata": {},
   "outputs": [
    {
     "data": {
      "text/plain": [
       "Index(['region', 'category', 'parameter', 'mode', 'powertrain', 'year', 'unit',\n",
       "       'value', 'percentage'],\n",
       "      dtype='object')"
      ]
     },
     "execution_count": 10,
     "metadata": {},
     "output_type": "execute_result"
    }
   ],
   "source": [
    "df.columns"
   ]
  },
  {
   "cell_type": "code",
   "execution_count": 17,
   "metadata": {},
   "outputs": [],
   "source": [
    "categorical_cols =  ['region', 'category', 'parameter', 'mode', 'powertrain', 'unit']\n",
    "numerical_cols = ['value', 'percentage']"
   ]
  },
  {
   "cell_type": "code",
   "execution_count": 14,
   "metadata": {},
   "outputs": [
    {
     "name": "stdout",
     "output_type": "stream",
     "text": [
      "region -> ['austria' 'belgium' 'brazil' 'canada' 'china' 'denmark' 'eu27' 'europe'\n",
      " 'france' 'germany' 'iceland' 'india' 'israel' 'italy' 'japan' 'korea'\n",
      " 'netherlands' 'new zealand' 'norway' 'poland' 'portugal'\n",
      " 'rest of the world' 'spain' 'sweden' 'united kingdom' 'usa' 'world'\n",
      " 'australia' 'chile' 'finland' 'mexico' 'switzerland' 'turkiye' 'greece'\n",
      " 'south africa' 'bulgaria' 'colombia' 'costa rica' 'czech republic'\n",
      " 'estonia' 'hungary' 'ireland' 'latvia' 'lithuania' 'romania' 'seychelles'\n",
      " 'slovakia' 'slovenia' 'thailand' 'united arab emirates' 'croatia'\n",
      " 'cyprus' 'luxembourg' 'indonesia']\n",
      "------------------------------------------\n",
      "category -> ['historical' 'projection-steps' 'projection-aps']\n",
      "------------------------------------------\n",
      "parameter -> ['ev stock' 'ev stock share' 'ev sales' 'ev sales share'\n",
      " 'electricity demand' 'oil displacement mbd'\n",
      " 'oil displacement, million lge' 'ev charging points']\n",
      "------------------------------------------\n",
      "mode -> ['cars' 'buses' 'vans' 'trucks' 'ev']\n",
      "------------------------------------------\n",
      "powertrain -> ['bev' 'ev' 'phev' 'fcev' 'publicly available slow'\n",
      " 'publicly available fast']\n",
      "------------------------------------------\n",
      "unit -> ['vehicles' 'percent' 'gwh' 'milion barrels per day'\n",
      " 'oil displacement, million lge' 'charging points']\n",
      "------------------------------------------\n"
     ]
    }
   ],
   "source": [
    "for col in categorical_cols:\n",
    "    df[col] = df[col].str.lower()\n",
    "    print(f\"{col} -> {df[col].unique()}\")\n",
    "    print(\"------------------------------------------\")"
   ]
  },
  {
   "cell_type": "code",
   "execution_count": 18,
   "metadata": {},
   "outputs": [
    {
     "name": "stdout",
     "output_type": "stream",
     "text": [
      "value -> ['350' '789.999.961.853' '3' ... '940000' '390000000' '9400000']\n",
      "------------------------------------------\n",
      "percentage -> ['35000,00%' '78999996185300,00%' '300,00%' ... '94000000,00%'\n",
      " '39000000000,00%' '940000000,00%']\n",
      "------------------------------------------\n"
     ]
    }
   ],
   "source": [
    "df[\"percentage\"].apply(lambda a)"
   ]
  },
  {
   "cell_type": "code",
   "execution_count": 22,
   "metadata": {},
   "outputs": [
    {
     "data": {
      "text/plain": [
       "7899999618530000.0"
      ]
     },
     "execution_count": 22,
     "metadata": {},
     "output_type": "execute_result"
    }
   ],
   "source": [
    "np.float64('78999996185300,00%'[:-1].replace(\",\", \"\"))"
   ]
  },
  {
   "cell_type": "code",
   "execution_count": 25,
   "metadata": {},
   "outputs": [
    {
     "data": {
      "text/html": [
       "<div>\n",
       "<style scoped>\n",
       "    .dataframe tbody tr th:only-of-type {\n",
       "        vertical-align: middle;\n",
       "    }\n",
       "\n",
       "    .dataframe tbody tr th {\n",
       "        vertical-align: top;\n",
       "    }\n",
       "\n",
       "    .dataframe thead th {\n",
       "        text-align: right;\n",
       "    }\n",
       "</style>\n",
       "<table border=\"1\" class=\"dataframe\">\n",
       "  <thead>\n",
       "    <tr style=\"text-align: right;\">\n",
       "      <th></th>\n",
       "      <th>region</th>\n",
       "      <th>category</th>\n",
       "      <th>parameter</th>\n",
       "      <th>mode</th>\n",
       "      <th>powertrain</th>\n",
       "      <th>year</th>\n",
       "      <th>unit</th>\n",
       "      <th>value</th>\n",
       "      <th>percentage</th>\n",
       "    </tr>\n",
       "  </thead>\n",
       "  <tbody>\n",
       "    <tr>\n",
       "      <th>1</th>\n",
       "      <td>austria</td>\n",
       "      <td>historical</td>\n",
       "      <td>ev stock share</td>\n",
       "      <td>cars</td>\n",
       "      <td>ev</td>\n",
       "      <td>2010</td>\n",
       "      <td>percent</td>\n",
       "      <td>789.999.961.853</td>\n",
       "      <td>78999996185300,00%</td>\n",
       "    </tr>\n",
       "    <tr>\n",
       "      <th>8</th>\n",
       "      <td>belgium</td>\n",
       "      <td>historical</td>\n",
       "      <td>ev sales share</td>\n",
       "      <td>cars</td>\n",
       "      <td>ev</td>\n",
       "      <td>2010</td>\n",
       "      <td>percent</td>\n",
       "      <td>9.999.999.776.483</td>\n",
       "      <td>999999977648300,00%</td>\n",
       "    </tr>\n",
       "    <tr>\n",
       "      <th>12</th>\n",
       "      <td>belgium</td>\n",
       "      <td>historical</td>\n",
       "      <td>ev stock share</td>\n",
       "      <td>buses</td>\n",
       "      <td>ev</td>\n",
       "      <td>2010</td>\n",
       "      <td>percent</td>\n",
       "      <td>18.999.999.389.052</td>\n",
       "      <td>1899999938905200,00%</td>\n",
       "    </tr>\n",
       "    <tr>\n",
       "      <th>13</th>\n",
       "      <td>belgium</td>\n",
       "      <td>historical</td>\n",
       "      <td>ev sales share</td>\n",
       "      <td>vans</td>\n",
       "      <td>ev</td>\n",
       "      <td>2010</td>\n",
       "      <td>percent</td>\n",
       "      <td>13.000.000.268.221</td>\n",
       "      <td>1300000026822100,00%</td>\n",
       "    </tr>\n",
       "    <tr>\n",
       "      <th>14</th>\n",
       "      <td>belgium</td>\n",
       "      <td>historical</td>\n",
       "      <td>ev stock share</td>\n",
       "      <td>vans</td>\n",
       "      <td>ev</td>\n",
       "      <td>2010</td>\n",
       "      <td>percent</td>\n",
       "      <td>10.999.999.940.395</td>\n",
       "      <td>1099999994039500,00%</td>\n",
       "    </tr>\n",
       "    <tr>\n",
       "      <th>...</th>\n",
       "      <td>...</td>\n",
       "      <td>...</td>\n",
       "      <td>...</td>\n",
       "      <td>...</td>\n",
       "      <td>...</td>\n",
       "      <td>...</td>\n",
       "      <td>...</td>\n",
       "      <td>...</td>\n",
       "      <td>...</td>\n",
       "    </tr>\n",
       "    <tr>\n",
       "      <th>12565</th>\n",
       "      <td>world</td>\n",
       "      <td>projection-aps</td>\n",
       "      <td>oil displacement mbd</td>\n",
       "      <td>cars</td>\n",
       "      <td>ev</td>\n",
       "      <td>2035</td>\n",
       "      <td>milion barrels per day</td>\n",
       "      <td>769.999.980.926.514</td>\n",
       "      <td>76999998092651400,00%</td>\n",
       "    </tr>\n",
       "    <tr>\n",
       "      <th>12574</th>\n",
       "      <td>world</td>\n",
       "      <td>projection-steps</td>\n",
       "      <td>oil displacement mbd</td>\n",
       "      <td>buses</td>\n",
       "      <td>ev</td>\n",
       "      <td>2035</td>\n",
       "      <td>milion barrels per day</td>\n",
       "      <td>509.999.990.463.257</td>\n",
       "      <td>50999999046325700,00%</td>\n",
       "    </tr>\n",
       "    <tr>\n",
       "      <th>12575</th>\n",
       "      <td>world</td>\n",
       "      <td>projection-steps</td>\n",
       "      <td>oil displacement mbd</td>\n",
       "      <td>trucks</td>\n",
       "      <td>ev</td>\n",
       "      <td>2035</td>\n",
       "      <td>milion barrels per day</td>\n",
       "      <td>1.5</td>\n",
       "      <td>4541300,00%</td>\n",
       "    </tr>\n",
       "    <tr>\n",
       "      <th>12576</th>\n",
       "      <td>world</td>\n",
       "      <td>projection-steps</td>\n",
       "      <td>oil displacement mbd</td>\n",
       "      <td>vans</td>\n",
       "      <td>ev</td>\n",
       "      <td>2035</td>\n",
       "      <td>milion barrels per day</td>\n",
       "      <td>910.000.026.226.044</td>\n",
       "      <td>91000002622604400,00%</td>\n",
       "    </tr>\n",
       "    <tr>\n",
       "      <th>12577</th>\n",
       "      <td>world</td>\n",
       "      <td>projection-steps</td>\n",
       "      <td>oil displacement mbd</td>\n",
       "      <td>cars</td>\n",
       "      <td>ev</td>\n",
       "      <td>2035</td>\n",
       "      <td>milion barrels per day</td>\n",
       "      <td>780.000.019.073.486</td>\n",
       "      <td>78000001907348600,00%</td>\n",
       "    </tr>\n",
       "  </tbody>\n",
       "</table>\n",
       "<p>3284 rows × 9 columns</p>\n",
       "</div>"
      ],
      "text/plain": [
       "        region          category             parameter    mode powertrain  \\\n",
       "1      austria        historical        ev stock share    cars         ev   \n",
       "8      belgium        historical        ev sales share    cars         ev   \n",
       "12     belgium        historical        ev stock share   buses         ev   \n",
       "13     belgium        historical        ev sales share    vans         ev   \n",
       "14     belgium        historical        ev stock share    vans         ev   \n",
       "...        ...               ...                   ...     ...        ...   \n",
       "12565    world    projection-aps  oil displacement mbd    cars         ev   \n",
       "12574    world  projection-steps  oil displacement mbd   buses         ev   \n",
       "12575    world  projection-steps  oil displacement mbd  trucks         ev   \n",
       "12576    world  projection-steps  oil displacement mbd    vans         ev   \n",
       "12577    world  projection-steps  oil displacement mbd    cars         ev   \n",
       "\n",
       "       year                    unit                value  \\\n",
       "1      2010                 percent      789.999.961.853   \n",
       "8      2010                 percent    9.999.999.776.483   \n",
       "12     2010                 percent   18.999.999.389.052   \n",
       "13     2010                 percent   13.000.000.268.221   \n",
       "14     2010                 percent   10.999.999.940.395   \n",
       "...     ...                     ...                  ...   \n",
       "12565  2035  milion barrels per day  769.999.980.926.514   \n",
       "12574  2035  milion barrels per day  509.999.990.463.257   \n",
       "12575  2035  milion barrels per day                  1.5   \n",
       "12576  2035  milion barrels per day  910.000.026.226.044   \n",
       "12577  2035  milion barrels per day  780.000.019.073.486   \n",
       "\n",
       "                  percentage  \n",
       "1         78999996185300,00%  \n",
       "8        999999977648300,00%  \n",
       "12      1899999938905200,00%  \n",
       "13      1300000026822100,00%  \n",
       "14      1099999994039500,00%  \n",
       "...                      ...  \n",
       "12565  76999998092651400,00%  \n",
       "12574  50999999046325700,00%  \n",
       "12575            4541300,00%  \n",
       "12576  91000002622604400,00%  \n",
       "12577  78000001907348600,00%  \n",
       "\n",
       "[3284 rows x 9 columns]"
      ]
     },
     "execution_count": 25,
     "metadata": {},
     "output_type": "execute_result"
    }
   ],
   "source": [
    "df[df['value'].str.contains(\"\\.\")]"
   ]
  },
  {
   "cell_type": "markdown",
   "metadata": {},
   "source": [
    "#### Data issues\n",
    "* There are a lot of instanced where value is something like 9.999.999.776.483\n",
    "* Is it supposed to be decimal number (like 9999999776.483) or a integer with.being used in place of,(like9,999,999,776,483)"
   ]
  },
  {
   "cell_type": "code",
   "execution_count": null,
   "metadata": {},
   "outputs": [],
   "source": []
  }
 ],
 "metadata": {
  "kernelspec": {
   "display_name": "tf215_p310",
   "language": "python",
   "name": "python3"
  },
  "language_info": {
   "codemirror_mode": {
    "name": "ipython",
    "version": 3
   },
   "file_extension": ".py",
   "mimetype": "text/x-python",
   "name": "python",
   "nbconvert_exporter": "python",
   "pygments_lexer": "ipython3",
   "version": "3.10.12"
  }
 },
 "nbformat": 4,
 "nbformat_minor": 2
}
