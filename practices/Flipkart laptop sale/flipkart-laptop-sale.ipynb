{
 "cells": [
  {
   "cell_type": "markdown",
   "id": "bbd6c73e",
   "metadata": {
    "papermill": {
     "duration": 0.011731,
     "end_time": "2024-10-25T03:29:28.326313",
     "exception": false,
     "start_time": "2024-10-25T03:29:28.314582",
     "status": "completed"
    },
    "tags": []
   },
   "source": [
    "# Flipkart Laptop Sales - Analysis\n",
    "\n",
    "Data source: https://www.kaggle.com/datasets/mrmars1010/flipkart-product-datalaptops"
   ]
  },
  {
   "cell_type": "code",
   "execution_count": 1,
   "id": "2256f1e8",
   "metadata": {
    "_cell_guid": "b1076dfc-b9ad-4769-8c92-a6c4dae69d19",
    "_uuid": "8f2839f25d086af736a60e9eeb907d3b93b6e0e5",
    "execution": {
     "iopub.execute_input": "2024-10-25T03:29:28.350995Z",
     "iopub.status.busy": "2024-10-25T03:29:28.350511Z",
     "iopub.status.idle": "2024-10-25T03:29:29.275078Z",
     "shell.execute_reply": "2024-10-25T03:29:29.273837Z"
    },
    "papermill": {
     "duration": 0.940334,
     "end_time": "2024-10-25T03:29:29.278089",
     "exception": false,
     "start_time": "2024-10-25T03:29:28.337755",
     "status": "completed"
    },
    "tags": []
   },
   "outputs": [
    {
     "name": "stdout",
     "output_type": "stream",
     "text": [
      "/kaggle/input/flipkart-product-datalaptops/Flipkart-Laptops.xlsx\n"
     ]
    }
   ],
   "source": [
    "# This Python 3 environment comes with many helpful analytics libraries installed\n",
    "# It is defined by the kaggle/python Docker image: https://github.com/kaggle/docker-python\n",
    "# For example, here's several helpful packages to load\n",
    "\n",
    "import numpy as np # linear algebra\n",
    "import pandas as pd # data processing, CSV file I/O (e.g. pd.read_csv)\n",
    "\n",
    "# Input data files are available in the read-only \"../input/\" directory\n",
    "# For example, running this (by clicking run or pressing Shift+Enter) will list all files under the input directory\n",
    "\n",
    "import os\n",
    "for dirname, _, filenames in os.walk('/kaggle/input'):\n",
    "    for filename in filenames:\n",
    "        print(os.path.join(dirname, filename))\n",
    "\n",
    "# You can write up to 20GB to the current directory (/kaggle/working/) that gets preserved as output when you create a version using \"Save & Run All\" \n",
    "# You can also write temporary files to /kaggle/temp/, but they won't be saved outside of the current session"
   ]
  },
  {
   "cell_type": "code",
   "execution_count": 2,
   "id": "654d9404",
   "metadata": {
    "execution": {
     "iopub.execute_input": "2024-10-25T03:29:29.302937Z",
     "iopub.status.busy": "2024-10-25T03:29:29.302386Z",
     "iopub.status.idle": "2024-10-25T03:29:30.679917Z",
     "shell.execute_reply": "2024-10-25T03:29:30.678837Z"
    },
    "papermill": {
     "duration": 1.393076,
     "end_time": "2024-10-25T03:29:30.682763",
     "exception": false,
     "start_time": "2024-10-25T03:29:29.289687",
     "status": "completed"
    },
    "tags": []
   },
   "outputs": [],
   "source": [
    "import seaborn as sns\n",
    "import matplotlib.pyplot as plt\n",
    "import re"
   ]
  },
  {
   "cell_type": "code",
   "execution_count": 3,
   "id": "885afe68",
   "metadata": {
    "execution": {
     "iopub.execute_input": "2024-10-25T03:29:30.709123Z",
     "iopub.status.busy": "2024-10-25T03:29:30.708726Z",
     "iopub.status.idle": "2024-10-25T03:29:31.551664Z",
     "shell.execute_reply": "2024-10-25T03:29:31.550609Z"
    },
    "papermill": {
     "duration": 0.858909,
     "end_time": "2024-10-25T03:29:31.554458",
     "exception": false,
     "start_time": "2024-10-25T03:29:30.695549",
     "status": "completed"
    },
    "tags": []
   },
   "outputs": [],
   "source": [
    "df_raw = pd.read_excel(\"/kaggle/input/flipkart-product-datalaptops/Flipkart-Laptops.xlsx\")"
   ]
  },
  {
   "cell_type": "code",
   "execution_count": 4,
   "id": "14ac7cf2",
   "metadata": {
    "execution": {
     "iopub.execute_input": "2024-10-25T03:29:31.579872Z",
     "iopub.status.busy": "2024-10-25T03:29:31.579327Z",
     "iopub.status.idle": "2024-10-25T03:29:31.607196Z",
     "shell.execute_reply": "2024-10-25T03:29:31.606123Z"
    },
    "papermill": {
     "duration": 0.04355,
     "end_time": "2024-10-25T03:29:31.609800",
     "exception": false,
     "start_time": "2024-10-25T03:29:31.566250",
     "status": "completed"
    },
    "tags": []
   },
   "outputs": [
    {
     "data": {
      "text/html": [
       "<div>\n",
       "<style scoped>\n",
       "    .dataframe tbody tr th:only-of-type {\n",
       "        vertical-align: middle;\n",
       "    }\n",
       "\n",
       "    .dataframe tbody tr th {\n",
       "        vertical-align: top;\n",
       "    }\n",
       "\n",
       "    .dataframe thead th {\n",
       "        text-align: right;\n",
       "    }\n",
       "</style>\n",
       "<table border=\"1\" class=\"dataframe\">\n",
       "  <thead>\n",
       "    <tr style=\"text-align: right;\">\n",
       "      <th></th>\n",
       "      <th>Product Name</th>\n",
       "      <th>ProductID</th>\n",
       "      <th>Product image</th>\n",
       "      <th>Actual price</th>\n",
       "      <th>Discount price</th>\n",
       "      <th>Stars</th>\n",
       "      <th>Rating</th>\n",
       "      <th>Reviews</th>\n",
       "      <th>Description</th>\n",
       "      <th>Link</th>\n",
       "    </tr>\n",
       "  </thead>\n",
       "  <tbody>\n",
       "    <tr>\n",
       "      <th>0</th>\n",
       "      <td>MSI Cyborg 15 Intel Core i5 12th Gen 12450H - ...</td>\n",
       "      <td>COMGZW35W3DSJADN</td>\n",
       "      <td>NaN</td>\n",
       "      <td>89990</td>\n",
       "      <td>54990</td>\n",
       "      <td>3.9</td>\n",
       "      <td>7 Ratings</td>\n",
       "      <td>1 Reviews</td>\n",
       "      <td>Intel Core i5 Processor (12th Gen)16 GB DDR5 R...</td>\n",
       "      <td>https://www.flipkart.com/msi-cyborg-15-intel-c...</td>\n",
       "    </tr>\n",
       "    <tr>\n",
       "      <th>1</th>\n",
       "      <td>MSI Thin 15 Intel Core i7 12th Gen 12650H - (8...</td>\n",
       "      <td>COMGZW37ZX66DBHF</td>\n",
       "      <td>NaN</td>\n",
       "      <td>83990</td>\n",
       "      <td>67990</td>\n",
       "      <td>NIL</td>\n",
       "      <td>NIL</td>\n",
       "      <td>NIL</td>\n",
       "      <td>Intel Core i7 Processor (12th Gen)8 GB DDR4 RA...</td>\n",
       "      <td>https://www.flipkart.com/msi-thin-15-intel-cor...</td>\n",
       "    </tr>\n",
       "    <tr>\n",
       "      <th>2</th>\n",
       "      <td>DELL Inspiron 3520 Intel Core i3 12th Gen 1215...</td>\n",
       "      <td>COMGJ75HJGFDJ6JN</td>\n",
       "      <td>NaN</td>\n",
       "      <td>49240</td>\n",
       "      <td>35660</td>\n",
       "      <td>4.2</td>\n",
       "      <td>1,805 Ratings</td>\n",
       "      <td>143 Reviews</td>\n",
       "      <td>Intel Core i3 Processor (12th Gen)8 GB DDR4 RA...</td>\n",
       "      <td>https://www.flipkart.com/dell-inspiron-3520-in...</td>\n",
       "    </tr>\n",
       "    <tr>\n",
       "      <th>3</th>\n",
       "      <td>Acer One (2024) Intel Core i3 11th Gen 1115G4 ...</td>\n",
       "      <td>COMGPF5CQ7VDWDT4</td>\n",
       "      <td>NaN</td>\n",
       "      <td>43999</td>\n",
       "      <td>26990</td>\n",
       "      <td>4.2</td>\n",
       "      <td>6,977 Ratings</td>\n",
       "      <td>596 Reviews</td>\n",
       "      <td>Intel Core i3 Processor (11th Gen)8 GB DDR4 RA...</td>\n",
       "      <td>https://www.flipkart.com/acer-one-2024-intel-c...</td>\n",
       "    </tr>\n",
       "    <tr>\n",
       "      <th>4</th>\n",
       "      <td>Lenovo V15 AMD Ryzen 3 Quad Core 7320U - (8 GB...</td>\n",
       "      <td>COMGPYKZAWY8UX6C</td>\n",
       "      <td>NaN</td>\n",
       "      <td>59400</td>\n",
       "      <td>27989</td>\n",
       "      <td>4.2</td>\n",
       "      <td>1,263 Ratings</td>\n",
       "      <td>113 Reviews</td>\n",
       "      <td>AMD Ryzen 3 Quad Core Processor8 GB LPDDR5 RAM...</td>\n",
       "      <td>https://www.flipkart.com/lenovo-v15-amd-ryzen-...</td>\n",
       "    </tr>\n",
       "  </tbody>\n",
       "</table>\n",
       "</div>"
      ],
      "text/plain": [
       "                                        Product Name         ProductID  \\\n",
       "0  MSI Cyborg 15 Intel Core i5 12th Gen 12450H - ...  COMGZW35W3DSJADN   \n",
       "1  MSI Thin 15 Intel Core i7 12th Gen 12650H - (8...  COMGZW37ZX66DBHF   \n",
       "2  DELL Inspiron 3520 Intel Core i3 12th Gen 1215...  COMGJ75HJGFDJ6JN   \n",
       "3  Acer One (2024) Intel Core i3 11th Gen 1115G4 ...  COMGPF5CQ7VDWDT4   \n",
       "4  Lenovo V15 AMD Ryzen 3 Quad Core 7320U - (8 GB...  COMGPYKZAWY8UX6C   \n",
       "\n",
       "   Product image Actual price Discount price Stars         Rating  \\\n",
       "0            NaN        89990          54990   3.9      7 Ratings   \n",
       "1            NaN        83990          67990   NIL            NIL   \n",
       "2            NaN        49240          35660   4.2  1,805 Ratings   \n",
       "3            NaN        43999          26990   4.2  6,977 Ratings   \n",
       "4            NaN        59400          27989   4.2  1,263 Ratings   \n",
       "\n",
       "       Reviews                                        Description  \\\n",
       "0    1 Reviews  Intel Core i5 Processor (12th Gen)16 GB DDR5 R...   \n",
       "1          NIL  Intel Core i7 Processor (12th Gen)8 GB DDR4 RA...   \n",
       "2  143 Reviews  Intel Core i3 Processor (12th Gen)8 GB DDR4 RA...   \n",
       "3  596 Reviews  Intel Core i3 Processor (11th Gen)8 GB DDR4 RA...   \n",
       "4  113 Reviews  AMD Ryzen 3 Quad Core Processor8 GB LPDDR5 RAM...   \n",
       "\n",
       "                                                Link  \n",
       "0  https://www.flipkart.com/msi-cyborg-15-intel-c...  \n",
       "1  https://www.flipkart.com/msi-thin-15-intel-cor...  \n",
       "2  https://www.flipkart.com/dell-inspiron-3520-in...  \n",
       "3  https://www.flipkart.com/acer-one-2024-intel-c...  \n",
       "4  https://www.flipkart.com/lenovo-v15-amd-ryzen-...  "
      ]
     },
     "execution_count": 4,
     "metadata": {},
     "output_type": "execute_result"
    }
   ],
   "source": [
    "df_raw.head()"
   ]
  },
  {
   "cell_type": "code",
   "execution_count": 5,
   "id": "7e672474",
   "metadata": {
    "execution": {
     "iopub.execute_input": "2024-10-25T03:29:31.635539Z",
     "iopub.status.busy": "2024-10-25T03:29:31.634624Z",
     "iopub.status.idle": "2024-10-25T03:29:31.657537Z",
     "shell.execute_reply": "2024-10-25T03:29:31.656505Z"
    },
    "papermill": {
     "duration": 0.038803,
     "end_time": "2024-10-25T03:29:31.660553",
     "exception": false,
     "start_time": "2024-10-25T03:29:31.621750",
     "status": "completed"
    },
    "tags": []
   },
   "outputs": [
    {
     "name": "stdout",
     "output_type": "stream",
     "text": [
      "<class 'pandas.core.frame.DataFrame'>\n",
      "RangeIndex: 960 entries, 0 to 959\n",
      "Data columns (total 10 columns):\n",
      " #   Column          Non-Null Count  Dtype  \n",
      "---  ------          --------------  -----  \n",
      " 0   Product Name    960 non-null    object \n",
      " 1   ProductID       960 non-null    object \n",
      " 2   Product image   0 non-null      float64\n",
      " 3   Actual price    960 non-null    object \n",
      " 4   Discount price  960 non-null    object \n",
      " 5   Stars           960 non-null    object \n",
      " 6   Rating          960 non-null    object \n",
      " 7   Reviews         960 non-null    object \n",
      " 8   Description     960 non-null    object \n",
      " 9   Link            960 non-null    object \n",
      "dtypes: float64(1), object(9)\n",
      "memory usage: 75.1+ KB\n"
     ]
    }
   ],
   "source": [
    "df_raw.info()"
   ]
  },
  {
   "cell_type": "code",
   "execution_count": 6,
   "id": "64b2e91a",
   "metadata": {
    "execution": {
     "iopub.execute_input": "2024-10-25T03:29:31.685888Z",
     "iopub.status.busy": "2024-10-25T03:29:31.685485Z",
     "iopub.status.idle": "2024-10-25T03:29:31.700154Z",
     "shell.execute_reply": "2024-10-25T03:29:31.699150Z"
    },
    "papermill": {
     "duration": 0.030379,
     "end_time": "2024-10-25T03:29:31.702794",
     "exception": false,
     "start_time": "2024-10-25T03:29:31.672415",
     "status": "completed"
    },
    "tags": []
   },
   "outputs": [
    {
     "name": "stdout",
     "output_type": "stream",
     "text": [
      "Actual price -> ['NIL']\n",
      "Discount price -> [' ']\n",
      "Stars -> [3.9 'NIL' 4.2 4.6 2.3 4.3 4.5 3.8 4.1 4.7 4.4 3.7 4.8 3.2 3.6 3.4 3.5 3.3\n",
      " 2.8 4.9 3.1]\n"
     ]
    }
   ],
   "source": [
    "for c in ['Actual price', 'Discount price', 'Stars']:\n",
    "    us = df_raw[df_raw[c].apply(lambda a: not str(a).isnumeric())][c].unique()\n",
    "    print(f\"{c} -> {us}\")"
   ]
  },
  {
   "cell_type": "code",
   "execution_count": 7,
   "id": "9e4ef8d9",
   "metadata": {
    "execution": {
     "iopub.execute_input": "2024-10-25T03:29:31.729736Z",
     "iopub.status.busy": "2024-10-25T03:29:31.728784Z",
     "iopub.status.idle": "2024-10-25T03:29:31.738800Z",
     "shell.execute_reply": "2024-10-25T03:29:31.737772Z"
    },
    "papermill": {
     "duration": 0.026315,
     "end_time": "2024-10-25T03:29:31.742036",
     "exception": false,
     "start_time": "2024-10-25T03:29:31.715721",
     "status": "completed"
    },
    "tags": []
   },
   "outputs": [
    {
     "name": "stdout",
     "output_type": "stream",
     "text": [
      "Rating -> ['NIL']\n",
      "Reviews -> ['NIL']\n"
     ]
    }
   ],
   "source": [
    "us = df_raw[df_raw['Rating'].apply(lambda a: not a.__contains__(\"Ratings\"))][\"Rating\"].unique()\n",
    "print(f\"Rating -> {us}\")\n",
    "\n",
    "us = df_raw[df_raw['Reviews'].apply(lambda a: not a.__contains__(\"Reviews\"))][\"Reviews\"].unique()\n",
    "print(f\"Reviews -> {us}\")"
   ]
  },
  {
   "cell_type": "code",
   "execution_count": 8,
   "id": "3aebd577",
   "metadata": {
    "execution": {
     "iopub.execute_input": "2024-10-25T03:29:31.767566Z",
     "iopub.status.busy": "2024-10-25T03:29:31.767178Z",
     "iopub.status.idle": "2024-10-25T03:29:31.785655Z",
     "shell.execute_reply": "2024-10-25T03:29:31.784595Z"
    },
    "papermill": {
     "duration": 0.034151,
     "end_time": "2024-10-25T03:29:31.788150",
     "exception": false,
     "start_time": "2024-10-25T03:29:31.753999",
     "status": "completed"
    },
    "tags": []
   },
   "outputs": [
    {
     "data": {
      "text/html": [
       "<div>\n",
       "<style scoped>\n",
       "    .dataframe tbody tr th:only-of-type {\n",
       "        vertical-align: middle;\n",
       "    }\n",
       "\n",
       "    .dataframe tbody tr th {\n",
       "        vertical-align: top;\n",
       "    }\n",
       "\n",
       "    .dataframe thead th {\n",
       "        text-align: right;\n",
       "    }\n",
       "</style>\n",
       "<table border=\"1\" class=\"dataframe\">\n",
       "  <thead>\n",
       "    <tr style=\"text-align: right;\">\n",
       "      <th></th>\n",
       "      <th>Product Name</th>\n",
       "      <th>ProductID</th>\n",
       "      <th>Product image</th>\n",
       "      <th>Actual price</th>\n",
       "      <th>Discount price</th>\n",
       "      <th>Stars</th>\n",
       "      <th>Rating</th>\n",
       "      <th>Reviews</th>\n",
       "      <th>Description</th>\n",
       "      <th>Link</th>\n",
       "    </tr>\n",
       "  </thead>\n",
       "  <tbody>\n",
       "    <tr>\n",
       "      <th>149</th>\n",
       "      <td>HP Victus Intel Core i7 12th Gen 12650H - (16 ...</td>\n",
       "      <td>COMH2DYZGEUJ4T5S</td>\n",
       "      <td>NaN</td>\n",
       "      <td>NIL</td>\n",
       "      <td>90898</td>\n",
       "      <td>NIL</td>\n",
       "      <td>NIL</td>\n",
       "      <td>NIL</td>\n",
       "      <td>Intel Core i7 Processor (12th Gen)16 GB DDR4 R...</td>\n",
       "      <td>https://www.flipkart.com/hp-victus-intel-core-...</td>\n",
       "    </tr>\n",
       "    <tr>\n",
       "      <th>473</th>\n",
       "      <td>HP AMD Ryzen 3 Quad Core 5300u - (8 GB/512 GB ...</td>\n",
       "      <td>COMGT84XFZSQHVN8</td>\n",
       "      <td>NaN</td>\n",
       "      <td>NIL</td>\n",
       "      <td>39631</td>\n",
       "      <td>NIL</td>\n",
       "      <td>NIL</td>\n",
       "      <td>NIL</td>\n",
       "      <td>AMD Ryzen 3 Quad Core Processor8 GB DDR4 RAM64...</td>\n",
       "      <td>https://www.flipkart.com/hp-amd-ryzen-3-quad-c...</td>\n",
       "    </tr>\n",
       "    <tr>\n",
       "      <th>644</th>\n",
       "      <td>Lenovo IdeaPad 3 Intel Core i3 12th Gen 1215U ...</td>\n",
       "      <td>COMGWVBHBWRRFTZB</td>\n",
       "      <td>NaN</td>\n",
       "      <td>NIL</td>\n",
       "      <td></td>\n",
       "      <td>4.3</td>\n",
       "      <td>4 Ratings</td>\n",
       "      <td>0 Reviews</td>\n",
       "      <td>Intel Core i3 Processor (12th Gen)8 GB DDR4 RA...</td>\n",
       "      <td>https://www.flipkart.com/lenovo-ideapad-3-inte...</td>\n",
       "    </tr>\n",
       "    <tr>\n",
       "      <th>820</th>\n",
       "      <td>HP Victus AMD Ryzen 5 Hexa Core 5600H - (8 GB/...</td>\n",
       "      <td>COMGGYEBBQFFPTTN</td>\n",
       "      <td>NaN</td>\n",
       "      <td>NIL</td>\n",
       "      <td></td>\n",
       "      <td>4.2</td>\n",
       "      <td>70 Ratings</td>\n",
       "      <td>7 Reviews</td>\n",
       "      <td>AMD Ryzen 5 Hexa Core Processor8 GB DDR4 RAM64...</td>\n",
       "      <td>https://www.flipkart.com/hp-victus-amd-ryzen-5...</td>\n",
       "    </tr>\n",
       "    <tr>\n",
       "      <th>860</th>\n",
       "      <td>HP Intel Core N N305 - (8 GB/256 GB/Chrome Plu...</td>\n",
       "      <td>COMH2V5YJGNRZFFQ</td>\n",
       "      <td>NaN</td>\n",
       "      <td>NIL</td>\n",
       "      <td>56963</td>\n",
       "      <td>NIL</td>\n",
       "      <td>NIL</td>\n",
       "      <td>NIL</td>\n",
       "      <td>Intel Core N Processor8 GB LPDDR5 RAMChrome Op...</td>\n",
       "      <td>https://www.flipkart.com/hp-intel-core-n-n305-...</td>\n",
       "    </tr>\n",
       "    <tr>\n",
       "      <th>874</th>\n",
       "      <td>HP Victus Intel Core i5 12th Gen 12450H - (16 ...</td>\n",
       "      <td>COMH2DYZUABHHQZA</td>\n",
       "      <td>NaN</td>\n",
       "      <td>NIL</td>\n",
       "      <td>77566</td>\n",
       "      <td>NIL</td>\n",
       "      <td>NIL</td>\n",
       "      <td>NIL</td>\n",
       "      <td>Intel Core i5 Processor (12th Gen)16 GB DDR4 R...</td>\n",
       "      <td>https://www.flipkart.com/hp-victus-intel-core-...</td>\n",
       "    </tr>\n",
       "    <tr>\n",
       "      <th>956</th>\n",
       "      <td>HP Victus Intel Core i5 12th Gen 12450H - (16 ...</td>\n",
       "      <td>COMH2DYZHMHZ5UPG</td>\n",
       "      <td>NaN</td>\n",
       "      <td>NIL</td>\n",
       "      <td>82414</td>\n",
       "      <td>NIL</td>\n",
       "      <td>NIL</td>\n",
       "      <td>NIL</td>\n",
       "      <td>Intel Core i5 Processor (12th Gen)16 GB DDR4 R...</td>\n",
       "      <td>https://www.flipkart.com/hp-victus-intel-core-...</td>\n",
       "    </tr>\n",
       "  </tbody>\n",
       "</table>\n",
       "</div>"
      ],
      "text/plain": [
       "                                          Product Name         ProductID  \\\n",
       "149  HP Victus Intel Core i7 12th Gen 12650H - (16 ...  COMH2DYZGEUJ4T5S   \n",
       "473  HP AMD Ryzen 3 Quad Core 5300u - (8 GB/512 GB ...  COMGT84XFZSQHVN8   \n",
       "644  Lenovo IdeaPad 3 Intel Core i3 12th Gen 1215U ...  COMGWVBHBWRRFTZB   \n",
       "820  HP Victus AMD Ryzen 5 Hexa Core 5600H - (8 GB/...  COMGGYEBBQFFPTTN   \n",
       "860  HP Intel Core N N305 - (8 GB/256 GB/Chrome Plu...  COMH2V5YJGNRZFFQ   \n",
       "874  HP Victus Intel Core i5 12th Gen 12450H - (16 ...  COMH2DYZUABHHQZA   \n",
       "956  HP Victus Intel Core i5 12th Gen 12450H - (16 ...  COMH2DYZHMHZ5UPG   \n",
       "\n",
       "     Product image Actual price Discount price Stars      Rating    Reviews  \\\n",
       "149            NaN          NIL          90898   NIL         NIL        NIL   \n",
       "473            NaN          NIL          39631   NIL         NIL        NIL   \n",
       "644            NaN          NIL                  4.3   4 Ratings  0 Reviews   \n",
       "820            NaN          NIL                  4.2  70 Ratings  7 Reviews   \n",
       "860            NaN          NIL          56963   NIL         NIL        NIL   \n",
       "874            NaN          NIL          77566   NIL         NIL        NIL   \n",
       "956            NaN          NIL          82414   NIL         NIL        NIL   \n",
       "\n",
       "                                           Description  \\\n",
       "149  Intel Core i7 Processor (12th Gen)16 GB DDR4 R...   \n",
       "473  AMD Ryzen 3 Quad Core Processor8 GB DDR4 RAM64...   \n",
       "644  Intel Core i3 Processor (12th Gen)8 GB DDR4 RA...   \n",
       "820  AMD Ryzen 5 Hexa Core Processor8 GB DDR4 RAM64...   \n",
       "860  Intel Core N Processor8 GB LPDDR5 RAMChrome Op...   \n",
       "874  Intel Core i5 Processor (12th Gen)16 GB DDR4 R...   \n",
       "956  Intel Core i5 Processor (12th Gen)16 GB DDR4 R...   \n",
       "\n",
       "                                                  Link  \n",
       "149  https://www.flipkart.com/hp-victus-intel-core-...  \n",
       "473  https://www.flipkart.com/hp-amd-ryzen-3-quad-c...  \n",
       "644  https://www.flipkart.com/lenovo-ideapad-3-inte...  \n",
       "820  https://www.flipkart.com/hp-victus-amd-ryzen-5...  \n",
       "860  https://www.flipkart.com/hp-intel-core-n-n305-...  \n",
       "874  https://www.flipkart.com/hp-victus-intel-core-...  \n",
       "956  https://www.flipkart.com/hp-victus-intel-core-...  "
      ]
     },
     "execution_count": 8,
     "metadata": {},
     "output_type": "execute_result"
    }
   ],
   "source": [
    "df_raw[(df_raw['Discount price'] == ' ') | (df_raw['Actual price'] == 'NIL')]"
   ]
  },
  {
   "cell_type": "code",
   "execution_count": 9,
   "id": "41b12da6",
   "metadata": {
    "execution": {
     "iopub.execute_input": "2024-10-25T03:29:31.814522Z",
     "iopub.status.busy": "2024-10-25T03:29:31.814153Z",
     "iopub.status.idle": "2024-10-25T03:29:31.836338Z",
     "shell.execute_reply": "2024-10-25T03:29:31.835138Z"
    },
    "papermill": {
     "duration": 0.038074,
     "end_time": "2024-10-25T03:29:31.838690",
     "exception": false,
     "start_time": "2024-10-25T03:29:31.800616",
     "status": "completed"
    },
    "tags": []
   },
   "outputs": [
    {
     "data": {
      "text/html": [
       "<div>\n",
       "<style scoped>\n",
       "    .dataframe tbody tr th:only-of-type {\n",
       "        vertical-align: middle;\n",
       "    }\n",
       "\n",
       "    .dataframe tbody tr th {\n",
       "        vertical-align: top;\n",
       "    }\n",
       "\n",
       "    .dataframe thead th {\n",
       "        text-align: right;\n",
       "    }\n",
       "</style>\n",
       "<table border=\"1\" class=\"dataframe\">\n",
       "  <thead>\n",
       "    <tr style=\"text-align: right;\">\n",
       "      <th></th>\n",
       "      <th>Product Name</th>\n",
       "      <th>ProductID</th>\n",
       "      <th>Product image</th>\n",
       "      <th>Actual price</th>\n",
       "      <th>Discount price</th>\n",
       "      <th>Stars</th>\n",
       "      <th>Rating</th>\n",
       "      <th>Reviews</th>\n",
       "      <th>Description</th>\n",
       "      <th>Link</th>\n",
       "    </tr>\n",
       "  </thead>\n",
       "  <tbody>\n",
       "    <tr>\n",
       "      <th>1</th>\n",
       "      <td>MSI Thin 15 Intel Core i7 12th Gen 12650H - (8...</td>\n",
       "      <td>COMGZW37ZX66DBHF</td>\n",
       "      <td>NaN</td>\n",
       "      <td>83990</td>\n",
       "      <td>67990</td>\n",
       "      <td>NIL</td>\n",
       "      <td>NIL</td>\n",
       "      <td>NIL</td>\n",
       "      <td>Intel Core i7 Processor (12th Gen)8 GB DDR4 RA...</td>\n",
       "      <td>https://www.flipkart.com/msi-thin-15-intel-cor...</td>\n",
       "    </tr>\n",
       "    <tr>\n",
       "      <th>10</th>\n",
       "      <td>ASUS TUF Gaming A15 (2024) AMD Ryzen 7 Octa Co...</td>\n",
       "      <td>COMGZW3FGTJMSNNM</td>\n",
       "      <td>NaN</td>\n",
       "      <td>143990</td>\n",
       "      <td>124990</td>\n",
       "      <td>NIL</td>\n",
       "      <td>NIL</td>\n",
       "      <td>NIL</td>\n",
       "      <td>AMD Ryzen 7 Octa Core Processor16 GB DDR5 RAMW...</td>\n",
       "      <td>https://www.flipkart.com/asus-tuf-gaming-a15-2...</td>\n",
       "    </tr>\n",
       "    <tr>\n",
       "      <th>11</th>\n",
       "      <td>ASUS TUF Gaming A15 (2024) AMD Ryzen 9 Octa Co...</td>\n",
       "      <td>COMGZW3F57BZCGQC</td>\n",
       "      <td>NaN</td>\n",
       "      <td>171990</td>\n",
       "      <td>142990</td>\n",
       "      <td>NIL</td>\n",
       "      <td>NIL</td>\n",
       "      <td>NIL</td>\n",
       "      <td>AMD Ryzen 9 Octa Core Processor16 GB DDR5 RAMW...</td>\n",
       "      <td>https://www.flipkart.com/asus-tuf-gaming-a15-2...</td>\n",
       "    </tr>\n",
       "    <tr>\n",
       "      <th>16</th>\n",
       "      <td>MSI Sword 16 HX Intel Core i7 14th Gen 14700HX...</td>\n",
       "      <td>COMGYSGNZVWFAHGH</td>\n",
       "      <td>NaN</td>\n",
       "      <td>139990</td>\n",
       "      <td>124990</td>\n",
       "      <td>NIL</td>\n",
       "      <td>NIL</td>\n",
       "      <td>NIL</td>\n",
       "      <td>Intel Core i7 Processor (14th Gen)16 GB DDR5 R...</td>\n",
       "      <td>https://www.flipkart.com/msi-sword-16-hx-intel...</td>\n",
       "    </tr>\n",
       "    <tr>\n",
       "      <th>17</th>\n",
       "      <td>MSI Prestige 16 AI Studio Intel Core Ultra 9 1...</td>\n",
       "      <td>COMGXMTAHXSHTQGD</td>\n",
       "      <td>NaN</td>\n",
       "      <td>212990</td>\n",
       "      <td>189990</td>\n",
       "      <td>NIL</td>\n",
       "      <td>NIL</td>\n",
       "      <td>NIL</td>\n",
       "      <td>Intel Core Ultra 9 Processor32 GB LPDDR5 RAMWi...</td>\n",
       "      <td>https://www.flipkart.com/msi-prestige-16-ai-st...</td>\n",
       "    </tr>\n",
       "    <tr>\n",
       "      <th>...</th>\n",
       "      <td>...</td>\n",
       "      <td>...</td>\n",
       "      <td>...</td>\n",
       "      <td>...</td>\n",
       "      <td>...</td>\n",
       "      <td>...</td>\n",
       "      <td>...</td>\n",
       "      <td>...</td>\n",
       "      <td>...</td>\n",
       "      <td>...</td>\n",
       "    </tr>\n",
       "    <tr>\n",
       "      <th>932</th>\n",
       "      <td>MSI Thin 15 Intel Core i7 12th Gen 12650H - (8...</td>\n",
       "      <td>COMGZW37ZX66DBHF</td>\n",
       "      <td>NaN</td>\n",
       "      <td>83990</td>\n",
       "      <td>67990</td>\n",
       "      <td>NIL</td>\n",
       "      <td>NIL</td>\n",
       "      <td>NIL</td>\n",
       "      <td>Intel Core i7 Processor (12th Gen)8 GB DDR4 RA...</td>\n",
       "      <td>https://www.flipkart.com/msi-thin-15-intel-cor...</td>\n",
       "    </tr>\n",
       "    <tr>\n",
       "      <th>936</th>\n",
       "      <td>MSI Commercial 14 H Intel Core i5 13th Gen 134...</td>\n",
       "      <td>COMGYSFG2KNNQY9H</td>\n",
       "      <td>NaN</td>\n",
       "      <td>98990</td>\n",
       "      <td>87990</td>\n",
       "      <td>NIL</td>\n",
       "      <td>NIL</td>\n",
       "      <td>NIL</td>\n",
       "      <td>Intel Core i5 Processor (13th Gen)16 GB DDR4 R...</td>\n",
       "      <td>https://www.flipkart.com/msi-commercial-14-h-i...</td>\n",
       "    </tr>\n",
       "    <tr>\n",
       "      <th>941</th>\n",
       "      <td>Acer Nitro AMD Ryzen 7 Octa Core 7735HS - (16 ...</td>\n",
       "      <td>COMGZN7Z8V7AGTAD</td>\n",
       "      <td>NaN</td>\n",
       "      <td>89999</td>\n",
       "      <td>74990</td>\n",
       "      <td>NIL</td>\n",
       "      <td>NIL</td>\n",
       "      <td>NIL</td>\n",
       "      <td>AMD Ryzen 7 Octa Core Processor16 GB DDR5 RAMW...</td>\n",
       "      <td>https://www.flipkart.com/acer-nitro-amd-ryzen-...</td>\n",
       "    </tr>\n",
       "    <tr>\n",
       "      <th>953</th>\n",
       "      <td>MSI Thin 15 Intel Core i7 12th Gen 12650H - (8...</td>\n",
       "      <td>COMGZW37ZX66DBHF</td>\n",
       "      <td>NaN</td>\n",
       "      <td>83990</td>\n",
       "      <td>67990</td>\n",
       "      <td>NIL</td>\n",
       "      <td>NIL</td>\n",
       "      <td>NIL</td>\n",
       "      <td>Intel Core i7 Processor (12th Gen)8 GB DDR4 RA...</td>\n",
       "      <td>https://www.flipkart.com/msi-thin-15-intel-cor...</td>\n",
       "    </tr>\n",
       "    <tr>\n",
       "      <th>956</th>\n",
       "      <td>HP Victus Intel Core i5 12th Gen 12450H - (16 ...</td>\n",
       "      <td>COMH2DYZHMHZ5UPG</td>\n",
       "      <td>NaN</td>\n",
       "      <td>NIL</td>\n",
       "      <td>82414</td>\n",
       "      <td>NIL</td>\n",
       "      <td>NIL</td>\n",
       "      <td>NIL</td>\n",
       "      <td>Intel Core i5 Processor (12th Gen)16 GB DDR4 R...</td>\n",
       "      <td>https://www.flipkart.com/hp-victus-intel-core-...</td>\n",
       "    </tr>\n",
       "  </tbody>\n",
       "</table>\n",
       "<p>150 rows × 10 columns</p>\n",
       "</div>"
      ],
      "text/plain": [
       "                                          Product Name         ProductID  \\\n",
       "1    MSI Thin 15 Intel Core i7 12th Gen 12650H - (8...  COMGZW37ZX66DBHF   \n",
       "10   ASUS TUF Gaming A15 (2024) AMD Ryzen 7 Octa Co...  COMGZW3FGTJMSNNM   \n",
       "11   ASUS TUF Gaming A15 (2024) AMD Ryzen 9 Octa Co...  COMGZW3F57BZCGQC   \n",
       "16   MSI Sword 16 HX Intel Core i7 14th Gen 14700HX...  COMGYSGNZVWFAHGH   \n",
       "17   MSI Prestige 16 AI Studio Intel Core Ultra 9 1...  COMGXMTAHXSHTQGD   \n",
       "..                                                 ...               ...   \n",
       "932  MSI Thin 15 Intel Core i7 12th Gen 12650H - (8...  COMGZW37ZX66DBHF   \n",
       "936  MSI Commercial 14 H Intel Core i5 13th Gen 134...  COMGYSFG2KNNQY9H   \n",
       "941  Acer Nitro AMD Ryzen 7 Octa Core 7735HS - (16 ...  COMGZN7Z8V7AGTAD   \n",
       "953  MSI Thin 15 Intel Core i7 12th Gen 12650H - (8...  COMGZW37ZX66DBHF   \n",
       "956  HP Victus Intel Core i5 12th Gen 12450H - (16 ...  COMH2DYZHMHZ5UPG   \n",
       "\n",
       "     Product image Actual price Discount price Stars Rating Reviews  \\\n",
       "1              NaN        83990          67990   NIL    NIL     NIL   \n",
       "10             NaN       143990         124990   NIL    NIL     NIL   \n",
       "11             NaN       171990         142990   NIL    NIL     NIL   \n",
       "16             NaN       139990         124990   NIL    NIL     NIL   \n",
       "17             NaN       212990         189990   NIL    NIL     NIL   \n",
       "..             ...          ...            ...   ...    ...     ...   \n",
       "932            NaN        83990          67990   NIL    NIL     NIL   \n",
       "936            NaN        98990          87990   NIL    NIL     NIL   \n",
       "941            NaN        89999          74990   NIL    NIL     NIL   \n",
       "953            NaN        83990          67990   NIL    NIL     NIL   \n",
       "956            NaN          NIL          82414   NIL    NIL     NIL   \n",
       "\n",
       "                                           Description  \\\n",
       "1    Intel Core i7 Processor (12th Gen)8 GB DDR4 RA...   \n",
       "10   AMD Ryzen 7 Octa Core Processor16 GB DDR5 RAMW...   \n",
       "11   AMD Ryzen 9 Octa Core Processor16 GB DDR5 RAMW...   \n",
       "16   Intel Core i7 Processor (14th Gen)16 GB DDR5 R...   \n",
       "17   Intel Core Ultra 9 Processor32 GB LPDDR5 RAMWi...   \n",
       "..                                                 ...   \n",
       "932  Intel Core i7 Processor (12th Gen)8 GB DDR4 RA...   \n",
       "936  Intel Core i5 Processor (13th Gen)16 GB DDR4 R...   \n",
       "941  AMD Ryzen 7 Octa Core Processor16 GB DDR5 RAMW...   \n",
       "953  Intel Core i7 Processor (12th Gen)8 GB DDR4 RA...   \n",
       "956  Intel Core i5 Processor (12th Gen)16 GB DDR4 R...   \n",
       "\n",
       "                                                  Link  \n",
       "1    https://www.flipkart.com/msi-thin-15-intel-cor...  \n",
       "10   https://www.flipkart.com/asus-tuf-gaming-a15-2...  \n",
       "11   https://www.flipkart.com/asus-tuf-gaming-a15-2...  \n",
       "16   https://www.flipkart.com/msi-sword-16-hx-intel...  \n",
       "17   https://www.flipkart.com/msi-prestige-16-ai-st...  \n",
       "..                                                 ...  \n",
       "932  https://www.flipkart.com/msi-thin-15-intel-cor...  \n",
       "936  https://www.flipkart.com/msi-commercial-14-h-i...  \n",
       "941  https://www.flipkart.com/acer-nitro-amd-ryzen-...  \n",
       "953  https://www.flipkart.com/msi-thin-15-intel-cor...  \n",
       "956  https://www.flipkart.com/hp-victus-intel-core-...  \n",
       "\n",
       "[150 rows x 10 columns]"
      ]
     },
     "execution_count": 9,
     "metadata": {},
     "output_type": "execute_result"
    }
   ],
   "source": [
    "df_raw[(df_raw['Rating'] == 'NIL') | (df_raw['Reviews'] == 'NIL') | (df_raw['Stars'] == 'NIL')]"
   ]
  },
  {
   "cell_type": "markdown",
   "id": "79e514ad",
   "metadata": {
    "papermill": {
     "duration": 0.01688,
     "end_time": "2024-10-25T03:29:31.869872",
     "exception": false,
     "start_time": "2024-10-25T03:29:31.852992",
     "status": "completed"
    },
    "tags": []
   },
   "source": [
    "## Notes\n",
    "- 'Product' image is all null, so it don't have any info\n",
    "- 'ProductID' have no info we can use\n",
    "- 'Actual price', 'Discount price', 'Stars', 'Rating', 'Reviews' need to be converted to numeric data. These are only numeric data we can use\n",
    "- 'Product Name' have brand info and some spec info\n",
    "- 'Description' is another column from where we can extract specs\n",
    "- 'Stars' have 'NIL' that should be replaced appropriately. 0 would be a bad replacement as it would mean a bad review. We can replace it with -1, another category implying no reviews yet.\n",
    "- 'Actual price' and 'Discount price' has non-numeric values like ' ' and 'NIL'. These kind of data is small (7 entries), so can be removed\n",
    "- 'Rating' and 'Reviews' have non-numeric value like 'NIL'. We can replace them with 0. We should also extract numeric values from them"
   ]
  },
  {
   "cell_type": "markdown",
   "id": "645800a5",
   "metadata": {
    "papermill": {
     "duration": 0.015755,
     "end_time": "2024-10-25T03:29:31.900554",
     "exception": false,
     "start_time": "2024-10-25T03:29:31.884799",
     "status": "completed"
    },
    "tags": []
   },
   "source": [
    "## Data cleaning"
   ]
  },
  {
   "cell_type": "code",
   "execution_count": 10,
   "id": "37a4ec02",
   "metadata": {
    "execution": {
     "iopub.execute_input": "2024-10-25T03:29:31.932070Z",
     "iopub.status.busy": "2024-10-25T03:29:31.931650Z",
     "iopub.status.idle": "2024-10-25T03:29:31.940741Z",
     "shell.execute_reply": "2024-10-25T03:29:31.939545Z"
    },
    "papermill": {
     "duration": 0.026173,
     "end_time": "2024-10-25T03:29:31.943145",
     "exception": false,
     "start_time": "2024-10-25T03:29:31.916972",
     "status": "completed"
    },
    "tags": []
   },
   "outputs": [],
   "source": [
    "df_cleaned = df_raw.drop(columns=['ProductID', 'Product image'])\n",
    "df_cleaned.columns = df_cleaned.columns.str.lower().str.replace(\" \", \"_\")"
   ]
  },
  {
   "cell_type": "code",
   "execution_count": 11,
   "id": "04c240c6",
   "metadata": {
    "execution": {
     "iopub.execute_input": "2024-10-25T03:29:31.973593Z",
     "iopub.status.busy": "2024-10-25T03:29:31.973207Z",
     "iopub.status.idle": "2024-10-25T03:29:31.980955Z",
     "shell.execute_reply": "2024-10-25T03:29:31.979779Z"
    },
    "papermill": {
     "duration": 0.027671,
     "end_time": "2024-10-25T03:29:31.983995",
     "exception": false,
     "start_time": "2024-10-25T03:29:31.956324",
     "status": "completed"
    },
    "tags": []
   },
   "outputs": [
    {
     "data": {
      "text/plain": [
       "Index(['product_name', 'actual_price', 'discount_price', 'stars', 'rating',\n",
       "       'reviews', 'description', 'link'],\n",
       "      dtype='object')"
      ]
     },
     "execution_count": 11,
     "metadata": {},
     "output_type": "execute_result"
    }
   ],
   "source": [
    "df_cleaned.columns"
   ]
  },
  {
   "cell_type": "code",
   "execution_count": 12,
   "id": "6186bb9a",
   "metadata": {
    "execution": {
     "iopub.execute_input": "2024-10-25T03:29:32.021132Z",
     "iopub.status.busy": "2024-10-25T03:29:32.020102Z",
     "iopub.status.idle": "2024-10-25T03:29:32.033657Z",
     "shell.execute_reply": "2024-10-25T03:29:32.032391Z"
    },
    "papermill": {
     "duration": 0.033198,
     "end_time": "2024-10-25T03:29:32.036693",
     "exception": false,
     "start_time": "2024-10-25T03:29:32.003495",
     "status": "completed"
    },
    "tags": []
   },
   "outputs": [],
   "source": [
    "df_cleaned.drop(df_cleaned[(df_cleaned['discount_price'] == ' ') | (df_cleaned['actual_price'] == 'NIL')].index, inplace=True)\n",
    "df_cleaned.drop(df_cleaned[(df_cleaned['rating'] == 'NIL') | (df_cleaned['reviews'] == 'NIL') | (df_cleaned['stars'] == 'NIL')].index, inplace=True)"
   ]
  },
  {
   "cell_type": "code",
   "execution_count": 13,
   "id": "6300d654",
   "metadata": {
    "execution": {
     "iopub.execute_input": "2024-10-25T03:29:32.067409Z",
     "iopub.status.busy": "2024-10-25T03:29:32.066669Z",
     "iopub.status.idle": "2024-10-25T03:29:32.073445Z",
     "shell.execute_reply": "2024-10-25T03:29:32.072310Z"
    },
    "papermill": {
     "duration": 0.023324,
     "end_time": "2024-10-25T03:29:32.075807",
     "exception": false,
     "start_time": "2024-10-25T03:29:32.052483",
     "status": "completed"
    },
    "tags": []
   },
   "outputs": [],
   "source": [
    "df_cleaned['actual_price'] = df_cleaned['actual_price'].astype(np.float32)\n",
    "df_cleaned['discount_price'] = df_cleaned['discount_price'].astype(np.float32)"
   ]
  },
  {
   "cell_type": "code",
   "execution_count": 14,
   "id": "2e2ffa5e",
   "metadata": {
    "execution": {
     "iopub.execute_input": "2024-10-25T03:29:32.104594Z",
     "iopub.status.busy": "2024-10-25T03:29:32.104202Z",
     "iopub.status.idle": "2024-10-25T03:29:32.115027Z",
     "shell.execute_reply": "2024-10-25T03:29:32.113759Z"
    },
    "papermill": {
     "duration": 0.028329,
     "end_time": "2024-10-25T03:29:32.117577",
     "exception": false,
     "start_time": "2024-10-25T03:29:32.089248",
     "status": "completed"
    },
    "tags": []
   },
   "outputs": [],
   "source": [
    "# 4 Ratings\n",
    "df_cleaned['rating'] = df_cleaned['rating'].apply(lambda s: int(s.split(\" \")[0].replace(\",\", \"\")))\n",
    "\n",
    "# 7 Reviews\n",
    "df_cleaned['reviews'] = df_cleaned['reviews'].apply(lambda s: int(s.split(\" \")[0].replace(\",\", \"\")))"
   ]
  },
  {
   "cell_type": "code",
   "execution_count": 15,
   "id": "d04c0745",
   "metadata": {
    "execution": {
     "iopub.execute_input": "2024-10-25T03:29:32.145330Z",
     "iopub.status.busy": "2024-10-25T03:29:32.144922Z",
     "iopub.status.idle": "2024-10-25T03:29:32.151768Z",
     "shell.execute_reply": "2024-10-25T03:29:32.150755Z"
    },
    "papermill": {
     "duration": 0.023768,
     "end_time": "2024-10-25T03:29:32.154379",
     "exception": false,
     "start_time": "2024-10-25T03:29:32.130611",
     "status": "completed"
    },
    "tags": []
   },
   "outputs": [],
   "source": [
    "df_cleaned['stars'] = df_cleaned['stars'].replace(\"NIL\", -1).astype(np.float32)"
   ]
  },
  {
   "cell_type": "markdown",
   "id": "3ab92f5b",
   "metadata": {
    "papermill": {
     "duration": 0.016033,
     "end_time": "2024-10-25T03:29:32.183564",
     "exception": false,
     "start_time": "2024-10-25T03:29:32.167531",
     "status": "completed"
    },
    "tags": []
   },
   "source": [
    "## Feature extraction"
   ]
  },
  {
   "cell_type": "markdown",
   "id": "72633d22",
   "metadata": {
    "papermill": {
     "duration": 0.013969,
     "end_time": "2024-10-25T03:29:32.212135",
     "exception": false,
     "start_time": "2024-10-25T03:29:32.198166",
     "status": "completed"
    },
    "tags": []
   },
   "source": [
    "### If we analyze 'product_name' the first word can be found as brand name. We are going to extract that"
   ]
  },
  {
   "cell_type": "code",
   "execution_count": 16,
   "id": "62001749",
   "metadata": {
    "execution": {
     "iopub.execute_input": "2024-10-25T03:29:32.241645Z",
     "iopub.status.busy": "2024-10-25T03:29:32.240668Z",
     "iopub.status.idle": "2024-10-25T03:29:32.255492Z",
     "shell.execute_reply": "2024-10-25T03:29:32.253887Z"
    },
    "papermill": {
     "duration": 0.032466,
     "end_time": "2024-10-25T03:29:32.258226",
     "exception": false,
     "start_time": "2024-10-25T03:29:32.225760",
     "status": "completed"
    },
    "tags": []
   },
   "outputs": [
    {
     "name": "stdout",
     "output_type": "stream",
     "text": [
      "142 Intel Core i5 Processor (13th Gen)16 GB DDR4 RAM64 bit Windows 11 Operating System512 GB SSD39.62 cm (15.6 inch) Display1 Year Onsite Warranty\n",
      "177 Intel Core i3 Processor (12th Gen)8 GB DDR4 RAM64 bit Windows 11 Operating System512 GB SSD39.62 cm (15.6 Inch) DisplayMicrosoft Office Home & Student 20211 Year Onsite Warranty\n",
      "136 Intel Core i3 Processor (12th Gen)8 GB LPDDR4 RAMWindows 11 Operating System512 GB SSD39.62 cm (15.6 inch) Display1 Year Onsite warranty\n",
      "136 Intel Core i3 Processor (12th Gen)8 GB LPDDR4 RAMWindows 11 Operating System512 GB SSD39.62 cm (15.6 inch) Display1 Year Onsite warranty\n",
      "175 AMD Ryzen 5 Hexa Core Processor8 GB DDR4 RAM64 bit Windows 11 Operating System1 TB HDD|256 GB SSD39.62 cm (15.6 inch) DisplayOffice Home and Student 20211 Year Onsite Warranty\n",
      "136 Intel Core i3 Processor (12th Gen)8 GB LPDDR4 RAMWindows 11 Operating System256 GB SSD39.62 cm (15.6 inch) Display1 Year Onsite warranty\n",
      "132 Intel Core i3 Processor (13th Gen)8 GB DDR4 RAMWindows 11 Operating System512 GB SSD39.62 cm (15.6 Inch) Display1 Year Warranty Term\n",
      "404 Apple M2 Processor8 GB Unified Memory RAMMac OS Operating System512 GB SSD34.54 cm (13.6 Inch) DisplayBuilt-in Apps: iMovie, Siri, GarageBand, Pages, Numbers, Photos, Keynote, Safari, Mail, FaceTime, Messages, Maps, Stocks, Home, Voice Memos, Notes, Calendar, Contacts, Reminders, Photo Booth, Preview, Books, App Store, Time Machine, TV, Music, Podcasts, Find My, QuickTime Player1 Year Limited Warranty\n",
      "136 Intel Core i3 Processor (12th Gen)8 GB LPDDR4 RAMWindows 11 Operating System512 GB SSD39.62 cm (15.6 inch) Display1 Year Onsite warranty\n",
      "143 Intel Core i5 Processor (13th Gen)16 GB LPDDR5X RAM64 bit Windows 11 Operating System512 GB SSD35.56 cm (14 Inch) Display1 Year Onsite Warranty\n"
     ]
    }
   ],
   "source": [
    "for i in range(10):\n",
    "    sdf = df_cleaned[\"description\"].sample(frac=1).reset_index(drop=True)\n",
    "    print(len(sdf.iloc[i]), sdf.iloc[i])"
   ]
  },
  {
   "cell_type": "code",
   "execution_count": 17,
   "id": "1994793d",
   "metadata": {
    "execution": {
     "iopub.execute_input": "2024-10-25T03:29:32.288855Z",
     "iopub.status.busy": "2024-10-25T03:29:32.288171Z",
     "iopub.status.idle": "2024-10-25T03:29:32.298905Z",
     "shell.execute_reply": "2024-10-25T03:29:32.297890Z"
    },
    "papermill": {
     "duration": 0.028253,
     "end_time": "2024-10-25T03:29:32.301330",
     "exception": false,
     "start_time": "2024-10-25T03:29:32.273077",
     "status": "completed"
    },
    "tags": []
   },
   "outputs": [
    {
     "data": {
      "text/plain": [
       "array(['MSI', 'DELL', 'Acer', 'Lenovo', 'HP', 'CHUWI', 'ASUS', 'Thomson',\n",
       "       'SAMSUNG', 'Ultimus', 'realme', 'ZEBRONICS', 'Infinix', 'Apple',\n",
       "       'Colorful', 'Primebook', 'Avita', 'AXL', 'GIGABYTE', 'Mi', 'Vaio'],\n",
       "      dtype=object)"
      ]
     },
     "execution_count": 17,
     "metadata": {},
     "output_type": "execute_result"
    }
   ],
   "source": [
    "df_cleaned['brand'] = df_cleaned['product_name'].apply(lambda pn: pn.split(\" \")[0])\n",
    "df_cleaned['brand'].unique()"
   ]
  },
  {
   "cell_type": "markdown",
   "id": "59249c64",
   "metadata": {
    "papermill": {
     "duration": 0.013464,
     "end_time": "2024-10-25T03:29:32.328119",
     "exception": false,
     "start_time": "2024-10-25T03:29:32.314655",
     "status": "completed"
    },
    "tags": []
   },
   "source": [
    "### CPU\n",
    "\n",
    "\n",
    "#### The laptop processor in this is of following types only. This can be used to extract cpu brand\n",
    "- Intel\n",
    "- AMD\n",
    "- MediaTek\n",
    "- Qualcomm Snapdragon\n",
    "- Apple (Apple M2 and Apple M3)"
   ]
  },
  {
   "cell_type": "code",
   "execution_count": 18,
   "id": "1fd20dd3",
   "metadata": {
    "execution": {
     "iopub.execute_input": "2024-10-25T03:29:32.357025Z",
     "iopub.status.busy": "2024-10-25T03:29:32.356609Z",
     "iopub.status.idle": "2024-10-25T03:29:32.369076Z",
     "shell.execute_reply": "2024-10-25T03:29:32.367913Z"
    },
    "papermill": {
     "duration": 0.029435,
     "end_time": "2024-10-25T03:29:32.371502",
     "exception": false,
     "start_time": "2024-10-25T03:29:32.342067",
     "status": "completed"
    },
    "tags": []
   },
   "outputs": [
    {
     "data": {
      "text/plain": [
       "array(['Intel', 'AMD', 'MediaTek', 'Apple Processor',\n",
       "       'Qualcomm Snapdragon'], dtype=object)"
      ]
     },
     "execution_count": 18,
     "metadata": {},
     "output_type": "execute_result"
    }
   ],
   "source": [
    "def get_cpu_brand(d: str):\n",
    "    if d.__contains__(\"Intel \"):\n",
    "        return \"Intel\"\n",
    "    elif d.__contains__(\"AMD \"):\n",
    "        return \"AMD\"\n",
    "    elif d.__contains__(\"MediaTek \"):\n",
    "        return \"MediaTek\"\n",
    "    elif d.__contains__(\"Qualcomm Snapdragon \"):\n",
    "        return 'Qualcomm Snapdragon'\n",
    "    elif d.__contains__(\"Apple M2 \") or d.__contains__(\"Apple M3 \"):\n",
    "        return 'Apple Processor'\n",
    "    else:\n",
    "        return \"Unknown\"\n",
    "    \n",
    "df_cleaned[\"cpu_brand\"] = df_cleaned['description'].apply(get_cpu_brand)\n",
    "df_cleaned[\"cpu_brand\"].unique()"
   ]
  },
  {
   "cell_type": "code",
   "execution_count": 19,
   "id": "0e91395a",
   "metadata": {
    "execution": {
     "iopub.execute_input": "2024-10-25T03:29:32.400417Z",
     "iopub.status.busy": "2024-10-25T03:29:32.400061Z",
     "iopub.status.idle": "2024-10-25T03:29:32.418618Z",
     "shell.execute_reply": "2024-10-25T03:29:32.417512Z"
    },
    "papermill": {
     "duration": 0.03577,
     "end_time": "2024-10-25T03:29:32.420873",
     "exception": false,
     "start_time": "2024-10-25T03:29:32.385103",
     "status": "completed"
    },
    "tags": []
   },
   "outputs": [
    {
     "data": {
      "text/plain": [
       "array(['Intel Core i5', 'Intel Core i3', 'AMD Ryzen 3 Quad Core',\n",
       "       'AMD Ryzen 5 Hexa Core', 'AMD Ryzen 7 Octa Core',\n",
       "       'MediaTek MT8183', 'Intel Core i7', 'Intel Celeron Dual Core',\n",
       "       'Unknown', 'Intel i3-1215U', 'AMD Athlon Dual Core',\n",
       "       'AMD Ryzen 5 Quad Core', 'Intel i5-1235U',\n",
       "       'Intel Celeron Quad Core', 'AMD Ryzen 3 Dual Core',\n",
       "       'Intel Core Ultra 5', 'Intel Core Ultra 9',\n",
       "       'AMD Ryzen 3 Octa Core', 'Apple M3',\n",
       "       'Qualcomm Snapdragon 7c Gen 2', 'Apple M2', 'MediaTek MT8788',\n",
       "       'Intel Core i9', 'AMD Ryzen 3 Hexa Core', 'Intel Core 5',\n",
       "       'MediaTek Kompanio 1200', '11th Gen Intel Evo Core i5',\n",
       "       'Intel Core Ultra 7', 'Intel Core 7', 'AMD Ryzen 5 Dual Core',\n",
       "       'Intel Pentium Quad Core', 'AMD Ryzen 9 Octa Core', 'AMD Ryzen 5',\n",
       "       'AMD Ryzen 3-3250U', 'AMD Ryzen 7 Dual Core',\n",
       "       'Intel Pentium Dual Core', 'AMD Ryzen Z1 HexaCore',\n",
       "       'MediaTek Kompanio 520', 'Genuine Windows 10 Home OSIntel Core i7',\n",
       "       'AMD Ryzen 7 Quad Core', 'AMD APU Quad Core A12',\n",
       "       'AMD APU Dual Core A6'], dtype=object)"
      ]
     },
     "execution_count": 19,
     "metadata": {},
     "output_type": "execute_result"
    }
   ],
   "source": [
    "def extract_cpu(d: str):\n",
    "    val: str = None\n",
    "    if type(d) is float:\n",
    "        val = \"Unknown\"\n",
    "    elif d.startswith(\"Processor: \"):\n",
    "        val = re.search(\"^Processor: (.+) \\(\", d).group(1)\n",
    "    elif d.startswith(\"Powered by \"):\n",
    "        val = re.search(\"^Powered by (.+)\", d).group(1)\n",
    "    elif d.startswith(\"Pre-installed \"):\n",
    "        val = re.search(\"^Pre-installed (.+)\", d).group(1)\n",
    "    elif d.startswith(\"Stylish & Portable \"):\n",
    "        val = re.search(\"WiFi 6(.+)$\", d).group(1)\n",
    "    else:\n",
    "        val = d\n",
    "    \n",
    "    if val.startswith(\"AMD Ryzen 3-3250U\"):\n",
    "        return \"AMD Ryzen 3-3250U\"\n",
    "    else:\n",
    "        return val\n",
    "\n",
    "# .str.extract(r\"^Processor: (.+) \\(\", flags=re.IGNORECASE, expand=True)[0].unique()\n",
    "cpu = df_cleaned['description'].str.extract(r\"^(.+?) Processor\", flags=re.IGNORECASE, expand=True)[0].apply(extract_cpu)\n",
    "cpu.unique()"
   ]
  },
  {
   "cell_type": "markdown",
   "id": "255c91e9",
   "metadata": {
    "papermill": {
     "duration": 0.013278,
     "end_time": "2024-10-25T03:29:32.447976",
     "exception": false,
     "start_time": "2024-10-25T03:29:32.434698",
     "status": "completed"
    },
    "tags": []
   },
   "source": [
    "### RAM"
   ]
  },
  {
   "cell_type": "code",
   "execution_count": 20,
   "id": "d3a970d0",
   "metadata": {
    "execution": {
     "iopub.execute_input": "2024-10-25T03:29:32.476934Z",
     "iopub.status.busy": "2024-10-25T03:29:32.476543Z",
     "iopub.status.idle": "2024-10-25T03:29:32.494050Z",
     "shell.execute_reply": "2024-10-25T03:29:32.492749Z"
    },
    "papermill": {
     "duration": 0.03459,
     "end_time": "2024-10-25T03:29:32.496336",
     "exception": false,
     "start_time": "2024-10-25T03:29:32.461746",
     "status": "completed"
    },
    "tags": []
   },
   "outputs": [
    {
     "name": "stdout",
     "output_type": "stream",
     "text": [
      "['16' '8' '4' '24' '32' '12']\n",
      "['DDR5' 'DDR4' 'LPDDR5' 'LPDDR4X' 'LPDDR4' 'LPDDR5X' 'Unified Memory'\n",
      " 'DDR4X']\n"
     ]
    }
   ],
   "source": [
    "a = df_cleaned['description'].str.extract(r\"([0-9]+) GB (.+) RAM\", flags=re.IGNORECASE, expand=True)\n",
    "print(a[0].unique())\n",
    "print(a[1].unique())\n",
    "df_cleaned['ram_size'] = a[0]\n",
    "df_cleaned[\"ram_type\"] = a[1]"
   ]
  },
  {
   "cell_type": "markdown",
   "id": "9e63e0e6",
   "metadata": {
    "papermill": {
     "duration": 0.01393,
     "end_time": "2024-10-25T03:29:32.524186",
     "exception": false,
     "start_time": "2024-10-25T03:29:32.510256",
     "status": "completed"
    },
    "tags": []
   },
   "source": [
    "### Hard drive"
   ]
  },
  {
   "cell_type": "code",
   "execution_count": 21,
   "id": "42317c17",
   "metadata": {
    "execution": {
     "iopub.execute_input": "2024-10-25T03:29:32.561837Z",
     "iopub.status.busy": "2024-10-25T03:29:32.561013Z",
     "iopub.status.idle": "2024-10-25T03:29:32.582579Z",
     "shell.execute_reply": "2024-10-25T03:29:32.581408Z"
    },
    "papermill": {
     "duration": 0.042948,
     "end_time": "2024-10-25T03:29:32.585164",
     "exception": false,
     "start_time": "2024-10-25T03:29:32.542216",
     "status": "completed"
    },
    "tags": []
   },
   "outputs": [
    {
     "data": {
      "text/plain": [
       "array(['512 GB SSD', nan, '256 GB SSD', '1 TB SSD', '128 GB SSD',\n",
       "       '1 TB HDD'], dtype=object)"
      ]
     },
     "execution_count": 21,
     "metadata": {},
     "output_type": "execute_result"
    }
   ],
   "source": [
    "hd = df_cleaned['description'].str.extract(r\"([0-9]+) (GB|TB) (SSD|HDD)\", flags=re.IGNORECASE, expand=True)\n",
    "df_cleaned[\"Storage\"] = hd[0] + \" \" + hd[1] + \" \" + hd[2]\n",
    "df_cleaned[\"Storage\"].unique()"
   ]
  },
  {
   "cell_type": "markdown",
   "id": "98b7b601",
   "metadata": {
    "papermill": {
     "duration": 0.015992,
     "end_time": "2024-10-25T03:29:32.615790",
     "exception": false,
     "start_time": "2024-10-25T03:29:32.599798",
     "status": "completed"
    },
    "tags": []
   },
   "source": [
    "#### Few of decriptions have no Storage info avaialable in description"
   ]
  },
  {
   "cell_type": "code",
   "execution_count": 22,
   "id": "9b998e8f",
   "metadata": {
    "execution": {
     "iopub.execute_input": "2024-10-25T03:29:32.645253Z",
     "iopub.status.busy": "2024-10-25T03:29:32.644883Z",
     "iopub.status.idle": "2024-10-25T03:29:32.652913Z",
     "shell.execute_reply": "2024-10-25T03:29:32.651625Z"
    },
    "papermill": {
     "duration": 0.026386,
     "end_time": "2024-10-25T03:29:32.656148",
     "exception": false,
     "start_time": "2024-10-25T03:29:32.629762",
     "status": "completed"
    },
    "tags": []
   },
   "outputs": [
    {
     "name": "stdout",
     "output_type": "stream",
     "text": [
      "MediaTek MT8183 Processor4 GB LPDDR4X RAMChrome Operating System29.46 cm (11.6 Inch) Display1 Year Carry-in Warranty\n",
      "Intel Celeron Dual Core Processor8 GB LPDDR4X RAMChrome Operating System35.56 cm (14 inch) Display1 Year Onsite Warranty\n",
      "Intel Celeron Dual Core Processor4 GB LPDDR4 RAM64 bit Chrome Operating System35.56 cm (14 Inch) Touchscreen Display1 Year onsite warranty\n",
      "Intel Celeron Dual Core Processor8 GB LPDDR4X RAMChrome Operating System35.56 cm (14 inch) Display1 Year Onsite Warranty\n",
      "Qualcomm Snapdragon 7c Gen 2 Processor4 GB LPDDR4X RAMWindows 11 Operating System35.56 cm (14 Inch) DisplayOffice Home and Student 20211 Year Onsite Warranty\n",
      "Intel Celeron Dual Core Processor4 GB LPDDR4X RAMChrome Operating System39.62 cm (15.6 Inch) Display1 Year Onsite Warranty\n",
      "MediaTek MT8788 Processor4 GB LPDDR4 RAMPrime OS Operating System29.46 cm (11.6 Inch) Display1 Year Pick and Drop Warranty\n",
      "Intel Celeron Dual Core Processor8 GB LPDDR4X RAMChrome Operating System39.62 cm (15.6 Inch) Display1 Year Onsite Warranty\n",
      "Intel Celeron Dual Core Processor4 GB LPDDR4 RAMChrome Operating System35.56 cm (14 Inch) Touchscreen Display1 Year Onsite Warranty\n",
      "Intel Celeron Dual Core Processor4 GB LPDDR4X RAMChrome Operating System35.56 cm (14 Inch) Display1 Year Onsite Warranty\n",
      "Intel Celeron Dual Core Processor4 GB LPDDR4X RAMChrome Operating System39.62 cm (15.6 Inch) Display1 Year Onsite Warranty\n",
      "Intel Celeron Dual Core Processor4 GB LPDDR4X RAMChrome Operating System39.62 cm (15.6 Inch) Display1 Year Onsite Warranty\n",
      "Intel Celeron Dual Core Processor4 GB LPDDR4 RAMChrome Operating System29.46 cm (11.6 inch) Display1 Year Onsite Warranty\n",
      "Intel Core i3 Processor (12th Gen)8 GB LPDDR5 RAMChrome Operating System35.56 cm (14 Inch) Display1 Year Onsite Warranty\n",
      "Intel Celeron Dual Core Processor4 GB LPDDR4X RAMChrome Operating System35.56 cm (14 Inch) Touchscreen Display1 Year Onsite Warranty\n",
      "MediaTek Kompanio 520 Processor4 GB LPDDR4X RAMChrome Operating System35.56 cm (14 Inch) Display1 Year Carry-in Warranty\n",
      "Intel Celeron Dual Core Processor4 GB LPDDR4 RAMChrome Operating System29.46 cm (11.6 inch) Touchscreen Display1 Year Onsite Warranty\n",
      "Intel Pentium Quad Core Processor4 GB LPDDR5 RAMChrome Operating System35.56 cm (14 Inch) Display1 Year Carry-in Warranty\n",
      "Intel Celeron Dual Core Processor4 GB LPDDR4 RAMChrome Operating System35.56 cm (14 inch) Display1 Year Onsite Warranty\n"
     ]
    }
   ],
   "source": [
    "for s in df_cleaned['description'][hd[0].isnull() | hd[1].isnull() | hd[2].isnull()].values:\n",
    "    print(s)"
   ]
  },
  {
   "cell_type": "markdown",
   "id": "52b4546b",
   "metadata": {
    "papermill": {
     "duration": 0.013741,
     "end_time": "2024-10-25T03:29:32.684082",
     "exception": false,
     "start_time": "2024-10-25T03:29:32.670341",
     "status": "completed"
    },
    "tags": []
   },
   "source": [
    "### Operating System"
   ]
  },
  {
   "cell_type": "code",
   "execution_count": 23,
   "id": "94ae7c6c",
   "metadata": {
    "execution": {
     "iopub.execute_input": "2024-10-25T03:29:32.714660Z",
     "iopub.status.busy": "2024-10-25T03:29:32.713702Z",
     "iopub.status.idle": "2024-10-25T03:29:32.727618Z",
     "shell.execute_reply": "2024-10-25T03:29:32.726589Z"
    },
    "papermill": {
     "duration": 0.032158,
     "end_time": "2024-10-25T03:29:32.730367",
     "exception": false,
     "start_time": "2024-10-25T03:29:32.698209",
     "status": "completed"
    },
    "tags": []
   },
   "outputs": [
    {
     "data": {
      "text/plain": [
       "array(['Windows 11', '64 bit Windows 11', '64 bit Windows 11 Home',\n",
       "       'Windows 11 Home', 'Chrome', 'DOS', '64 bit Chrome', 'Mac OS',\n",
       "       'Prime OS', 'Linux/Ubuntu', '64 bit Windows 10', '64 bit DOS',\n",
       "       '32 bit Windows 11', '64 bit Linux/Ubuntu'], dtype=object)"
      ]
     },
     "execution_count": 23,
     "metadata": {},
     "output_type": "execute_result"
    }
   ],
   "source": [
    "os = df_cleaned['description'].str.extract(r\"RAM(.{1,30}?) Operating System\", flags=re.IGNORECASE, expand=True)\n",
    "df_cleaned[\"os\"] = os[0]\n",
    "df_cleaned[\"os\"].unique()"
   ]
  },
  {
   "cell_type": "markdown",
   "id": "7cf9f2dc",
   "metadata": {
    "papermill": {
     "duration": 0.013875,
     "end_time": "2024-10-25T03:29:32.758592",
     "exception": false,
     "start_time": "2024-10-25T03:29:32.744717",
     "status": "completed"
    },
    "tags": []
   },
   "source": [
    "### Display"
   ]
  },
  {
   "cell_type": "code",
   "execution_count": 24,
   "id": "96225198",
   "metadata": {
    "execution": {
     "iopub.execute_input": "2024-10-25T03:29:32.789443Z",
     "iopub.status.busy": "2024-10-25T03:29:32.789079Z",
     "iopub.status.idle": "2024-10-25T03:29:32.805647Z",
     "shell.execute_reply": "2024-10-25T03:29:32.804418Z"
    },
    "papermill": {
     "duration": 0.034736,
     "end_time": "2024-10-25T03:29:32.808266",
     "exception": false,
     "start_time": "2024-10-25T03:29:32.773530",
     "status": "completed"
    },
    "tags": []
   },
   "outputs": [],
   "source": [
    "df_cleaned['display_size'] = df_cleaned['description'].str.extract(r\"([0-9\\.]+ cm) .* Display\", flags=re.IGNORECASE, expand=True)[0]"
   ]
  },
  {
   "cell_type": "code",
   "execution_count": 25,
   "id": "c546b9f3",
   "metadata": {
    "execution": {
     "iopub.execute_input": "2024-10-25T03:29:32.838965Z",
     "iopub.status.busy": "2024-10-25T03:29:32.838207Z",
     "iopub.status.idle": "2024-10-25T03:29:32.870725Z",
     "shell.execute_reply": "2024-10-25T03:29:32.869684Z"
    },
    "papermill": {
     "duration": 0.050508,
     "end_time": "2024-10-25T03:29:32.873210",
     "exception": false,
     "start_time": "2024-10-25T03:29:32.822702",
     "status": "completed"
    },
    "tags": []
   },
   "outputs": [
    {
     "data": {
      "text/plain": [
       "array(['2 year', '1 year', '20211 year', nan, '15 months', '2 years',\n",
       "       '3 year', '20191 year', '111 year', '20192 years', '3652 years',\n",
       "       '20212 years', '18 months'], dtype=object)"
      ]
     },
     "execution_count": 25,
     "metadata": {},
     "output_type": "execute_result"
    }
   ],
   "source": [
    "warranty_tail = 'Warranty|Warranty Term|Onsite Hardware Service|Onsite Warranty|Domestic warranty|Carry-in Warranty|Accidental Damage Protection|International Travelers Warranty'\n",
    "w = df_cleaned['description'].str.extract(r\"([0-9\\.]+( Year| Years| Yr|-year|Year| MONTHS)) (.*)\", flags=re.IGNORECASE, expand=True)\n",
    "df_cleaned[\"warranty\"] = w[0].str.lower().replace(\"1 yr\", \"1 year\").replace(\"1year\", \"1 year\").replace(\"1-year\", \"1 year\")\n",
    "df_cleaned[\"warranty_type\"] = w[2].str.lower()\n",
    "df_cleaned[\"warranty\"].unique()"
   ]
  },
  {
   "cell_type": "code",
   "execution_count": 26,
   "id": "bc34d232",
   "metadata": {
    "execution": {
     "iopub.execute_input": "2024-10-25T03:29:32.905794Z",
     "iopub.status.busy": "2024-10-25T03:29:32.905400Z",
     "iopub.status.idle": "2024-10-25T03:29:32.957170Z",
     "shell.execute_reply": "2024-10-25T03:29:32.956022Z"
    },
    "papermill": {
     "duration": 0.07213,
     "end_time": "2024-10-25T03:29:32.959909",
     "exception": false,
     "start_time": "2024-10-25T03:29:32.887779",
     "status": "completed"
    },
    "tags": []
   },
   "outputs": [],
   "source": [
    "df_cleaned.to_csv(\"Flipkart_Laptop_Sales_Data.csv\", index=False)"
   ]
  },
  {
   "cell_type": "code",
   "execution_count": 27,
   "id": "1f66ae5c",
   "metadata": {
    "execution": {
     "iopub.execute_input": "2024-10-25T03:29:32.990363Z",
     "iopub.status.busy": "2024-10-25T03:29:32.989956Z",
     "iopub.status.idle": "2024-10-25T03:29:33.012811Z",
     "shell.execute_reply": "2024-10-25T03:29:33.011738Z"
    },
    "papermill": {
     "duration": 0.041125,
     "end_time": "2024-10-25T03:29:33.015505",
     "exception": false,
     "start_time": "2024-10-25T03:29:32.974380",
     "status": "completed"
    },
    "tags": []
   },
   "outputs": [
    {
     "data": {
      "text/html": [
       "<div>\n",
       "<style scoped>\n",
       "    .dataframe tbody tr th:only-of-type {\n",
       "        vertical-align: middle;\n",
       "    }\n",
       "\n",
       "    .dataframe tbody tr th {\n",
       "        vertical-align: top;\n",
       "    }\n",
       "\n",
       "    .dataframe thead th {\n",
       "        text-align: right;\n",
       "    }\n",
       "</style>\n",
       "<table border=\"1\" class=\"dataframe\">\n",
       "  <thead>\n",
       "    <tr style=\"text-align: right;\">\n",
       "      <th></th>\n",
       "      <th>product_name</th>\n",
       "      <th>actual_price</th>\n",
       "      <th>discount_price</th>\n",
       "      <th>stars</th>\n",
       "      <th>rating</th>\n",
       "      <th>reviews</th>\n",
       "      <th>description</th>\n",
       "      <th>link</th>\n",
       "      <th>brand</th>\n",
       "      <th>cpu_brand</th>\n",
       "      <th>ram_size</th>\n",
       "      <th>ram_type</th>\n",
       "      <th>Storage</th>\n",
       "      <th>os</th>\n",
       "      <th>display_size</th>\n",
       "      <th>warranty</th>\n",
       "      <th>warranty_type</th>\n",
       "    </tr>\n",
       "  </thead>\n",
       "  <tbody>\n",
       "    <tr>\n",
       "      <th>0</th>\n",
       "      <td>MSI Cyborg 15 Intel Core i5 12th Gen 12450H - ...</td>\n",
       "      <td>89990.0</td>\n",
       "      <td>54990.0</td>\n",
       "      <td>3.9</td>\n",
       "      <td>7</td>\n",
       "      <td>1</td>\n",
       "      <td>Intel Core i5 Processor (12th Gen)16 GB DDR5 R...</td>\n",
       "      <td>https://www.flipkart.com/msi-cyborg-15-intel-c...</td>\n",
       "      <td>MSI</td>\n",
       "      <td>Intel</td>\n",
       "      <td>16</td>\n",
       "      <td>DDR5</td>\n",
       "      <td>512 GB SSD</td>\n",
       "      <td>Windows 11</td>\n",
       "      <td>39.62 cm</td>\n",
       "      <td>2 year</td>\n",
       "      <td>warranty term</td>\n",
       "    </tr>\n",
       "    <tr>\n",
       "      <th>2</th>\n",
       "      <td>DELL Inspiron 3520 Intel Core i3 12th Gen 1215...</td>\n",
       "      <td>49240.0</td>\n",
       "      <td>35660.0</td>\n",
       "      <td>4.2</td>\n",
       "      <td>1805</td>\n",
       "      <td>143</td>\n",
       "      <td>Intel Core i3 Processor (12th Gen)8 GB DDR4 RA...</td>\n",
       "      <td>https://www.flipkart.com/dell-inspiron-3520-in...</td>\n",
       "      <td>DELL</td>\n",
       "      <td>Intel</td>\n",
       "      <td>8</td>\n",
       "      <td>DDR4</td>\n",
       "      <td>512 GB SSD</td>\n",
       "      <td>64 bit Windows 11</td>\n",
       "      <td>39.62 cm</td>\n",
       "      <td>1 year</td>\n",
       "      <td>onsite hardware service</td>\n",
       "    </tr>\n",
       "    <tr>\n",
       "      <th>3</th>\n",
       "      <td>Acer One (2024) Intel Core i3 11th Gen 1115G4 ...</td>\n",
       "      <td>43999.0</td>\n",
       "      <td>26990.0</td>\n",
       "      <td>4.2</td>\n",
       "      <td>6977</td>\n",
       "      <td>596</td>\n",
       "      <td>Intel Core i3 Processor (11th Gen)8 GB DDR4 RA...</td>\n",
       "      <td>https://www.flipkart.com/acer-one-2024-intel-c...</td>\n",
       "      <td>Acer</td>\n",
       "      <td>Intel</td>\n",
       "      <td>8</td>\n",
       "      <td>DDR4</td>\n",
       "      <td>512 GB SSD</td>\n",
       "      <td>64 bit Windows 11</td>\n",
       "      <td>35.56 cm</td>\n",
       "      <td>1 year</td>\n",
       "      <td>warranty</td>\n",
       "    </tr>\n",
       "    <tr>\n",
       "      <th>4</th>\n",
       "      <td>Lenovo V15 AMD Ryzen 3 Quad Core 7320U - (8 GB...</td>\n",
       "      <td>59400.0</td>\n",
       "      <td>27989.0</td>\n",
       "      <td>4.2</td>\n",
       "      <td>1263</td>\n",
       "      <td>113</td>\n",
       "      <td>AMD Ryzen 3 Quad Core Processor8 GB LPDDR5 RAM...</td>\n",
       "      <td>https://www.flipkart.com/lenovo-v15-amd-ryzen-...</td>\n",
       "      <td>Lenovo</td>\n",
       "      <td>AMD</td>\n",
       "      <td>8</td>\n",
       "      <td>LPDDR5</td>\n",
       "      <td>512 GB SSD</td>\n",
       "      <td>Windows 11</td>\n",
       "      <td>100.63 cm</td>\n",
       "      <td>1 year</td>\n",
       "      <td>onsite warranty</td>\n",
       "    </tr>\n",
       "    <tr>\n",
       "      <th>5</th>\n",
       "      <td>Lenovo AMD Ryzen 3 Quad Core 7330U - (8 GB/512...</td>\n",
       "      <td>63900.0</td>\n",
       "      <td>32990.0</td>\n",
       "      <td>5.0</td>\n",
       "      <td>7</td>\n",
       "      <td>0</td>\n",
       "      <td>AMD Ryzen 3 Quad Core Processor8 GB DDR4 RAMWi...</td>\n",
       "      <td>https://www.flipkart.com/lenovo-amd-ryzen-3-qu...</td>\n",
       "      <td>Lenovo</td>\n",
       "      <td>AMD</td>\n",
       "      <td>8</td>\n",
       "      <td>DDR4</td>\n",
       "      <td>512 GB SSD</td>\n",
       "      <td>Windows 11</td>\n",
       "      <td>39.62 cm</td>\n",
       "      <td>1 year</td>\n",
       "      <td>onsite warranty</td>\n",
       "    </tr>\n",
       "  </tbody>\n",
       "</table>\n",
       "</div>"
      ],
      "text/plain": [
       "                                        product_name  actual_price  \\\n",
       "0  MSI Cyborg 15 Intel Core i5 12th Gen 12450H - ...       89990.0   \n",
       "2  DELL Inspiron 3520 Intel Core i3 12th Gen 1215...       49240.0   \n",
       "3  Acer One (2024) Intel Core i3 11th Gen 1115G4 ...       43999.0   \n",
       "4  Lenovo V15 AMD Ryzen 3 Quad Core 7320U - (8 GB...       59400.0   \n",
       "5  Lenovo AMD Ryzen 3 Quad Core 7330U - (8 GB/512...       63900.0   \n",
       "\n",
       "   discount_price  stars  rating  reviews  \\\n",
       "0         54990.0    3.9       7        1   \n",
       "2         35660.0    4.2    1805      143   \n",
       "3         26990.0    4.2    6977      596   \n",
       "4         27989.0    4.2    1263      113   \n",
       "5         32990.0    5.0       7        0   \n",
       "\n",
       "                                         description  \\\n",
       "0  Intel Core i5 Processor (12th Gen)16 GB DDR5 R...   \n",
       "2  Intel Core i3 Processor (12th Gen)8 GB DDR4 RA...   \n",
       "3  Intel Core i3 Processor (11th Gen)8 GB DDR4 RA...   \n",
       "4  AMD Ryzen 3 Quad Core Processor8 GB LPDDR5 RAM...   \n",
       "5  AMD Ryzen 3 Quad Core Processor8 GB DDR4 RAMWi...   \n",
       "\n",
       "                                                link   brand cpu_brand  \\\n",
       "0  https://www.flipkart.com/msi-cyborg-15-intel-c...     MSI     Intel   \n",
       "2  https://www.flipkart.com/dell-inspiron-3520-in...    DELL     Intel   \n",
       "3  https://www.flipkart.com/acer-one-2024-intel-c...    Acer     Intel   \n",
       "4  https://www.flipkart.com/lenovo-v15-amd-ryzen-...  Lenovo       AMD   \n",
       "5  https://www.flipkart.com/lenovo-amd-ryzen-3-qu...  Lenovo       AMD   \n",
       "\n",
       "  ram_size ram_type     Storage                 os display_size warranty  \\\n",
       "0       16     DDR5  512 GB SSD         Windows 11     39.62 cm   2 year   \n",
       "2        8     DDR4  512 GB SSD  64 bit Windows 11     39.62 cm   1 year   \n",
       "3        8     DDR4  512 GB SSD  64 bit Windows 11     35.56 cm   1 year   \n",
       "4        8   LPDDR5  512 GB SSD         Windows 11    100.63 cm   1 year   \n",
       "5        8     DDR4  512 GB SSD         Windows 11     39.62 cm   1 year   \n",
       "\n",
       "             warranty_type  \n",
       "0            warranty term  \n",
       "2  onsite hardware service  \n",
       "3                 warranty  \n",
       "4          onsite warranty  \n",
       "5          onsite warranty  "
      ]
     },
     "execution_count": 27,
     "metadata": {},
     "output_type": "execute_result"
    }
   ],
   "source": [
    "df_cleaned.head()"
   ]
  }
 ],
 "metadata": {
  "kaggle": {
   "accelerator": "none",
   "dataSources": [
    {
     "datasetId": 5526606,
     "sourceId": 9149389,
     "sourceType": "datasetVersion"
    }
   ],
   "dockerImageVersionId": 30746,
   "isGpuEnabled": false,
   "isInternetEnabled": true,
   "language": "python",
   "sourceType": "notebook"
  },
  "kernelspec": {
   "display_name": "Python 3",
   "language": "python",
   "name": "python3"
  },
  "language_info": {
   "codemirror_mode": {
    "name": "ipython",
    "version": 3
   },
   "file_extension": ".py",
   "mimetype": "text/x-python",
   "name": "python",
   "nbconvert_exporter": "python",
   "pygments_lexer": "ipython3",
   "version": "3.10.13"
  },
  "papermill": {
   "default_parameters": {},
   "duration": 8.787827,
   "end_time": "2024-10-25T03:29:33.651904",
   "environment_variables": {},
   "exception": null,
   "input_path": "__notebook__.ipynb",
   "output_path": "__notebook__.ipynb",
   "parameters": {},
   "start_time": "2024-10-25T03:29:24.864077",
   "version": "2.5.0"
  }
 },
 "nbformat": 4,
 "nbformat_minor": 5
}
